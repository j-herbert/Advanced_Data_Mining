{
 "cells": [
  {
   "cell_type": "markdown",
   "metadata": {},
   "source": [
    "# INFS 770 - Advanced Data Mining Application\n",
    "## Assignment 1\n",
    "### John Herbert"
   ]
  },
  {
   "cell_type": "markdown",
   "metadata": {},
   "source": [
    "## 0: Import Libraries"
   ]
  },
  {
   "cell_type": "code",
   "execution_count": 16,
   "metadata": {},
   "outputs": [],
   "source": [
    "import pandas as pd\n",
    "import numpy as np\n",
    "from sklearn.model_selection import train_test_split\n",
    "from sklearn.linear_model import LogisticRegression\n",
    "from sklearn import metrics\n",
    "import seaborn as sns\n",
    "import matplotlib.pyplot as plt\n",
    "from sklearn.svm import SVC\n",
    "from sklearn.ensemble import RandomForestClassifier as RFC"
   ]
  },
  {
   "cell_type": "markdown",
   "metadata": {},
   "source": [
    "## 1: Import Data"
   ]
  },
  {
   "cell_type": "code",
   "execution_count": 17,
   "metadata": {},
   "outputs": [
    {
     "data": {
      "text/plain": [
       "fLength     float64\n",
       "fWidth      float64\n",
       "fSize       float64\n",
       "fConc       float64\n",
       "fConc1      float64\n",
       "fAsym       float64\n",
       "fM3Long     float64\n",
       "fM3Trans    float64\n",
       "fAlpha      float64\n",
       "fDist       float64\n",
       "class        object\n",
       "dtype: object"
      ]
     },
     "execution_count": 17,
     "metadata": {},
     "output_type": "execute_result"
    }
   ],
   "source": [
    "# Importing Data\n",
    "\n",
    "magic = 'magic04.data'\n",
    "\n",
    "# Define column names\n",
    "var_names = [\n",
    "    'fLength',  # major axis of ellipse [mm]\n",
    "    'fWidth',   # minor axis of ellipse [mm] \n",
    "    'fSize',    # 10-log of sum of content of all pixels [in #phot]\n",
    "    'fConc',    # ratio of sum of two highest pixels over fSize  [ratio]\n",
    "    'fConc1',   # ratio of highest pixel over fSize  [ratio]\n",
    "    'fAsym',    # distance from highest pixel to center, projected onto major axis [mm]\n",
    "    'fM3Long',  # 3rd root of third moment along major axis  [mm] \n",
    "    'fM3Trans', # 3rd root of third moment along minor axis  [mm]\n",
    "    'fAlpha',   # angle of major axis with vector to origin [deg]\n",
    "    'fDist',    # distance from origin to center of ellipse [mm]\n",
    "    'class',    # gamma (signal), hadron \n",
    "]\n",
    "\n",
    "# Read from .data file\n",
    "magic_df = pd.read_csv(magic,sep=',',names=var_names)\n",
    "magic_df2 = magic_df.copy()\n",
    "# List variable data types\n",
    "magic_df.dtypes"
   ]
  },
  {
   "cell_type": "code",
   "execution_count": 18,
   "metadata": {},
   "outputs": [
    {
     "data": {
      "text/html": [
       "<div>\n",
       "<style scoped>\n",
       "    .dataframe tbody tr th:only-of-type {\n",
       "        vertical-align: middle;\n",
       "    }\n",
       "\n",
       "    .dataframe tbody tr th {\n",
       "        vertical-align: top;\n",
       "    }\n",
       "\n",
       "    .dataframe thead th {\n",
       "        text-align: right;\n",
       "    }\n",
       "</style>\n",
       "<table border=\"1\" class=\"dataframe\">\n",
       "  <thead>\n",
       "    <tr style=\"text-align: right;\">\n",
       "      <th></th>\n",
       "      <th>fLength</th>\n",
       "      <th>fWidth</th>\n",
       "      <th>fSize</th>\n",
       "      <th>fConc</th>\n",
       "      <th>fConc1</th>\n",
       "      <th>fAsym</th>\n",
       "      <th>fM3Long</th>\n",
       "      <th>fM3Trans</th>\n",
       "      <th>fAlpha</th>\n",
       "      <th>fDist</th>\n",
       "      <th>class</th>\n",
       "    </tr>\n",
       "  </thead>\n",
       "  <tbody>\n",
       "    <tr>\n",
       "      <th>0</th>\n",
       "      <td>28.7967</td>\n",
       "      <td>16.0021</td>\n",
       "      <td>2.6449</td>\n",
       "      <td>0.3918</td>\n",
       "      <td>0.1982</td>\n",
       "      <td>27.7004</td>\n",
       "      <td>22.0110</td>\n",
       "      <td>-8.2027</td>\n",
       "      <td>40.0920</td>\n",
       "      <td>81.8828</td>\n",
       "      <td>g</td>\n",
       "    </tr>\n",
       "    <tr>\n",
       "      <th>1</th>\n",
       "      <td>31.6036</td>\n",
       "      <td>11.7235</td>\n",
       "      <td>2.5185</td>\n",
       "      <td>0.5303</td>\n",
       "      <td>0.3773</td>\n",
       "      <td>26.2722</td>\n",
       "      <td>23.8238</td>\n",
       "      <td>-9.9574</td>\n",
       "      <td>6.3609</td>\n",
       "      <td>205.2610</td>\n",
       "      <td>g</td>\n",
       "    </tr>\n",
       "    <tr>\n",
       "      <th>2</th>\n",
       "      <td>162.0520</td>\n",
       "      <td>136.0310</td>\n",
       "      <td>4.0612</td>\n",
       "      <td>0.0374</td>\n",
       "      <td>0.0187</td>\n",
       "      <td>116.7410</td>\n",
       "      <td>-64.8580</td>\n",
       "      <td>-45.2160</td>\n",
       "      <td>76.9600</td>\n",
       "      <td>256.7880</td>\n",
       "      <td>g</td>\n",
       "    </tr>\n",
       "    <tr>\n",
       "      <th>3</th>\n",
       "      <td>23.8172</td>\n",
       "      <td>9.5728</td>\n",
       "      <td>2.3385</td>\n",
       "      <td>0.6147</td>\n",
       "      <td>0.3922</td>\n",
       "      <td>27.2107</td>\n",
       "      <td>-6.4633</td>\n",
       "      <td>-7.1513</td>\n",
       "      <td>10.4490</td>\n",
       "      <td>116.7370</td>\n",
       "      <td>g</td>\n",
       "    </tr>\n",
       "    <tr>\n",
       "      <th>4</th>\n",
       "      <td>75.1362</td>\n",
       "      <td>30.9205</td>\n",
       "      <td>3.1611</td>\n",
       "      <td>0.3168</td>\n",
       "      <td>0.1832</td>\n",
       "      <td>-5.5277</td>\n",
       "      <td>28.5525</td>\n",
       "      <td>21.8393</td>\n",
       "      <td>4.6480</td>\n",
       "      <td>356.4620</td>\n",
       "      <td>g</td>\n",
       "    </tr>\n",
       "  </tbody>\n",
       "</table>\n",
       "</div>"
      ],
      "text/plain": [
       "    fLength    fWidth   fSize   fConc  fConc1     fAsym  fM3Long  fM3Trans  \\\n",
       "0   28.7967   16.0021  2.6449  0.3918  0.1982   27.7004  22.0110   -8.2027   \n",
       "1   31.6036   11.7235  2.5185  0.5303  0.3773   26.2722  23.8238   -9.9574   \n",
       "2  162.0520  136.0310  4.0612  0.0374  0.0187  116.7410 -64.8580  -45.2160   \n",
       "3   23.8172    9.5728  2.3385  0.6147  0.3922   27.2107  -6.4633   -7.1513   \n",
       "4   75.1362   30.9205  3.1611  0.3168  0.1832   -5.5277  28.5525   21.8393   \n",
       "\n",
       "    fAlpha     fDist class  \n",
       "0  40.0920   81.8828     g  \n",
       "1   6.3609  205.2610     g  \n",
       "2  76.9600  256.7880     g  \n",
       "3  10.4490  116.7370     g  \n",
       "4   4.6480  356.4620     g  "
      ]
     },
     "execution_count": 18,
     "metadata": {},
     "output_type": "execute_result"
    }
   ],
   "source": [
    "# Running the top 5 data records to confirm data was imported correctly\n",
    "magic_df.head()"
   ]
  },
  {
   "cell_type": "markdown",
   "metadata": {},
   "source": [
    "## 2: Dependent Variable Count"
   ]
  },
  {
   "cell_type": "code",
   "execution_count": 19,
   "metadata": {},
   "outputs": [
    {
     "data": {
      "text/plain": [
       "g    12332\n",
       "h     6688\n",
       "Name: class, dtype: int64"
      ]
     },
     "execution_count": 19,
     "metadata": {},
     "output_type": "execute_result"
    }
   ],
   "source": [
    "# Value count for target of dependent variable - class\n",
    "magic_df['class'].value_counts()"
   ]
  },
  {
   "cell_type": "markdown",
   "metadata": {},
   "source": [
    "## 3: Histogram of Predictor Variables"
   ]
  },
  {
   "cell_type": "code",
   "execution_count": 20,
   "metadata": {},
   "outputs": [
    {
     "data": {
      "text/plain": [
       "array([[<AxesSubplot:title={'center':'fLength'}>,\n",
       "        <AxesSubplot:title={'center':'fWidth'}>,\n",
       "        <AxesSubplot:title={'center':'fSize'}>],\n",
       "       [<AxesSubplot:title={'center':'fConc'}>,\n",
       "        <AxesSubplot:title={'center':'fConc1'}>,\n",
       "        <AxesSubplot:title={'center':'fAsym'}>],\n",
       "       [<AxesSubplot:title={'center':'fM3Long'}>,\n",
       "        <AxesSubplot:title={'center':'fM3Trans'}>,\n",
       "        <AxesSubplot:title={'center':'fAlpha'}>],\n",
       "       [<AxesSubplot:title={'center':'fDist'}>, <AxesSubplot:>,\n",
       "        <AxesSubplot:>]], dtype=object)"
      ]
     },
     "execution_count": 20,
     "metadata": {},
     "output_type": "execute_result"
    },
    {
     "data": {
      "image/png": "[encoded data removed]",
      "text/plain": [
       "<Figure size 1152x1008 with 12 Axes>"
      ]
     },
     "metadata": {},
     "output_type": "display_data"
    }
   ],
   "source": [
    "# Creating a subset of the predictor variables and plotting histograms for each\n",
    "predictors = [\n",
    "    'fLength','fWidth','fSize','fConc','fConc1','fAsym','fM3Long', \n",
    "    'fM3Trans','fAlpha','fDist',    \n",
    "]\n",
    "\n",
    "magic_df[predictors].hist(figsize=(16,14))"
   ]
  },
  {
   "cell_type": "markdown",
   "metadata": {},
   "source": [
    "## 4: Stats for Predictor Variables"
   ]
  },
  {
   "cell_type": "code",
   "execution_count": 21,
   "metadata": {},
   "outputs": [
    {
     "data": {
      "text/html": [
       "<div>\n",
       "<style scoped>\n",
       "    .dataframe tbody tr th:only-of-type {\n",
       "        vertical-align: middle;\n",
       "    }\n",
       "\n",
       "    .dataframe tbody tr th {\n",
       "        vertical-align: top;\n",
       "    }\n",
       "\n",
       "    .dataframe thead th {\n",
       "        text-align: right;\n",
       "    }\n",
       "</style>\n",
       "<table border=\"1\" class=\"dataframe\">\n",
       "  <thead>\n",
       "    <tr style=\"text-align: right;\">\n",
       "      <th></th>\n",
       "      <th>fLength</th>\n",
       "      <th>fWidth</th>\n",
       "      <th>fSize</th>\n",
       "      <th>fConc</th>\n",
       "      <th>fConc1</th>\n",
       "      <th>fAsym</th>\n",
       "      <th>fM3Long</th>\n",
       "      <th>fM3Trans</th>\n",
       "      <th>fAlpha</th>\n",
       "      <th>fDist</th>\n",
       "    </tr>\n",
       "  </thead>\n",
       "  <tbody>\n",
       "    <tr>\n",
       "      <th>count</th>\n",
       "      <td>19020.000000</td>\n",
       "      <td>19020.000000</td>\n",
       "      <td>19020.000000</td>\n",
       "      <td>19020.000000</td>\n",
       "      <td>19020.000000</td>\n",
       "      <td>19020.000000</td>\n",
       "      <td>19020.000000</td>\n",
       "      <td>19020.000000</td>\n",
       "      <td>19020.000000</td>\n",
       "      <td>19020.000000</td>\n",
       "    </tr>\n",
       "    <tr>\n",
       "      <th>mean</th>\n",
       "      <td>53.250154</td>\n",
       "      <td>22.180966</td>\n",
       "      <td>2.825017</td>\n",
       "      <td>0.380327</td>\n",
       "      <td>0.214657</td>\n",
       "      <td>-4.331745</td>\n",
       "      <td>10.545545</td>\n",
       "      <td>0.249726</td>\n",
       "      <td>27.645707</td>\n",
       "      <td>193.818026</td>\n",
       "    </tr>\n",
       "    <tr>\n",
       "      <th>std</th>\n",
       "      <td>42.364855</td>\n",
       "      <td>18.346056</td>\n",
       "      <td>0.472599</td>\n",
       "      <td>0.182813</td>\n",
       "      <td>0.110511</td>\n",
       "      <td>59.206062</td>\n",
       "      <td>51.000118</td>\n",
       "      <td>20.827439</td>\n",
       "      <td>26.103621</td>\n",
       "      <td>74.731787</td>\n",
       "    </tr>\n",
       "    <tr>\n",
       "      <th>min</th>\n",
       "      <td>4.283500</td>\n",
       "      <td>0.000000</td>\n",
       "      <td>1.941300</td>\n",
       "      <td>0.013100</td>\n",
       "      <td>0.000300</td>\n",
       "      <td>-457.916100</td>\n",
       "      <td>-331.780000</td>\n",
       "      <td>-205.894700</td>\n",
       "      <td>0.000000</td>\n",
       "      <td>1.282600</td>\n",
       "    </tr>\n",
       "    <tr>\n",
       "      <th>25%</th>\n",
       "      <td>24.336000</td>\n",
       "      <td>11.863800</td>\n",
       "      <td>2.477100</td>\n",
       "      <td>0.235800</td>\n",
       "      <td>0.128475</td>\n",
       "      <td>-20.586550</td>\n",
       "      <td>-12.842775</td>\n",
       "      <td>-10.849375</td>\n",
       "      <td>5.547925</td>\n",
       "      <td>142.492250</td>\n",
       "    </tr>\n",
       "    <tr>\n",
       "      <th>50%</th>\n",
       "      <td>37.147700</td>\n",
       "      <td>17.139900</td>\n",
       "      <td>2.739600</td>\n",
       "      <td>0.354150</td>\n",
       "      <td>0.196500</td>\n",
       "      <td>4.013050</td>\n",
       "      <td>15.314100</td>\n",
       "      <td>0.666200</td>\n",
       "      <td>17.679500</td>\n",
       "      <td>191.851450</td>\n",
       "    </tr>\n",
       "    <tr>\n",
       "      <th>75%</th>\n",
       "      <td>70.122175</td>\n",
       "      <td>24.739475</td>\n",
       "      <td>3.101600</td>\n",
       "      <td>0.503700</td>\n",
       "      <td>0.285225</td>\n",
       "      <td>24.063700</td>\n",
       "      <td>35.837800</td>\n",
       "      <td>10.946425</td>\n",
       "      <td>45.883550</td>\n",
       "      <td>240.563825</td>\n",
       "    </tr>\n",
       "    <tr>\n",
       "      <th>max</th>\n",
       "      <td>334.177000</td>\n",
       "      <td>256.382000</td>\n",
       "      <td>5.323300</td>\n",
       "      <td>0.893000</td>\n",
       "      <td>0.675200</td>\n",
       "      <td>575.240700</td>\n",
       "      <td>238.321000</td>\n",
       "      <td>179.851000</td>\n",
       "      <td>90.000000</td>\n",
       "      <td>495.561000</td>\n",
       "    </tr>\n",
       "  </tbody>\n",
       "</table>\n",
       "</div>"
      ],
      "text/plain": [
       "            fLength        fWidth         fSize         fConc        fConc1  \\\n",
       "count  19020.000000  19020.000000  19020.000000  19020.000000  19020.000000   \n",
       "mean      53.250154     22.180966      2.825017      0.380327      0.214657   \n",
       "std       42.364855     18.346056      0.472599      0.182813      0.110511   \n",
       "min        4.283500      0.000000      1.941300      0.013100      0.000300   \n",
       "25%       24.336000     11.863800      2.477100      0.235800      0.128475   \n",
       "50%       37.147700     17.139900      2.739600      0.354150      0.196500   \n",
       "75%       70.122175     24.739475      3.101600      0.503700      0.285225   \n",
       "max      334.177000    256.382000      5.323300      0.893000      0.675200   \n",
       "\n",
       "              fAsym       fM3Long      fM3Trans        fAlpha         fDist  \n",
       "count  19020.000000  19020.000000  19020.000000  19020.000000  19020.000000  \n",
       "mean      -4.331745     10.545545      0.249726     27.645707    193.818026  \n",
       "std       59.206062     51.000118     20.827439     26.103621     74.731787  \n",
       "min     -457.916100   -331.780000   -205.894700      0.000000      1.282600  \n",
       "25%      -20.586550    -12.842775    -10.849375      5.547925    142.492250  \n",
       "50%        4.013050     15.314100      0.666200     17.679500    191.851450  \n",
       "75%       24.063700     35.837800     10.946425     45.883550    240.563825  \n",
       "max      575.240700    238.321000    179.851000     90.000000    495.561000  "
      ]
     },
     "execution_count": 21,
     "metadata": {},
     "output_type": "execute_result"
    }
   ],
   "source": [
    "# Gathering descriptive statistics on each of the independent variables\n",
    "magic_df[predictors].describe()"
   ]
  },
  {
   "cell_type": "markdown",
   "metadata": {},
   "source": [
    "## 5: Training\\Validation Split"
   ]
  },
  {
   "cell_type": "code",
   "execution_count": 22,
   "metadata": {},
   "outputs": [
    {
     "data": {
      "text/plain": [
       "1    12332\n",
       "0     6688\n",
       "Name: class, dtype: int64"
      ]
     },
     "execution_count": 22,
     "metadata": {},
     "output_type": "execute_result"
    }
   ],
   "source": [
    "# First I will convert the class variable to a dummy variable with g or gamma = 1\n",
    "# and g or hadron = 0.\n",
    "# I then output a value count to confirm that the formula worked correctly\n",
    "target = pd.get_dummies(magic_df['class'])\n",
    "target.columns = ['class','h']\n",
    "target = target['class']\n",
    "target.value_counts()"
   ]
  },
  {
   "cell_type": "code",
   "execution_count": 23,
   "metadata": {},
   "outputs": [
    {
     "name": "stdout",
     "output_type": "stream",
     "text": [
      "X Training Set Shape: (11412, 10)\n",
      "X Validation Set Shape: (7608, 10)\n",
      "y Training Set Shape: (11412,)\n",
      "y Validation Set Shape: (7608,)\n"
     ]
    }
   ],
   "source": [
    "# First I will convert the class variable to a dummy variable with g or gamma = 1\n",
    "# and g or hadron = 0.\n",
    "\n",
    "# Splitting the data into test and validation sub set for the predictors and the target variables\n",
    "# Data was split with 60% in training and 40% in validation sets\n",
    "X_train,X_test,y_train,y_test = train_test_split(magic_df[predictors],target,\n",
    "                                test_size=0.4,random_state=42)\n",
    "\n",
    "# Running the shape of each new set created to confirm the correct number of records were produced\n",
    "print('X Training Set Shape:',X_train.shape)\n",
    "print('X Validation Set Shape:',X_test.shape)\n",
    "print('y Training Set Shape:',y_train.shape)\n",
    "print('y Validation Set Shape:',y_test.shape)"
   ]
  },
  {
   "cell_type": "markdown",
   "metadata": {},
   "source": [
    "## 6: Validation Description"
   ]
  },
  {
   "cell_type": "markdown",
   "metadata": {},
   "source": [
    "Uses of the validation\\cross validation set:\n",
    "1. **Detect overfitting**. Since the model uses a different set to train, the validation set is used to confirm the model will work well with new data, and not just  the training dataset.\n",
    "2. **Variable Selection**. If a model has a lot of predictors, it can generate a lot of noise and also contain multicolinearity (predictor variables that are correlated to each other) that make variables unnecessary. \n",
    "3. **Model comparison**. This is used to compare models with untouched data to see which model preforms the best (i.e. minimizes cost the most).\n",
    "4. **Hyperparameter tuning** Most models have hyperparameters that can be changed to determine at what level each hyperparameter produces the lowest cost function. This can be done through gradient descent or stochastic gradient descent."
   ]
  },
  {
   "cell_type": "markdown",
   "metadata": {},
   "source": [
    "## 7: Logistic Regression and ROC AUC "
   ]
  },
  {
   "cell_type": "code",
   "execution_count": 24,
   "metadata": {},
   "outputs": [],
   "source": [
    "# Using the logistic regression functions in sklearn to create the mode,\n",
    "# then fitting the model to the training dataset\n",
    "logr = LogisticRegression(random_state=42,max_iter=10000)\n",
    "logfit = logr.fit(X_train,y_train)\n",
    "logpred = logfit.predict(X_test)"
   ]
  },
  {
   "cell_type": "code",
   "execution_count": 25,
   "metadata": {},
   "outputs": [
    {
     "data": {
      "image/png": "[encoded data removed]",
      "text/plain": [
       "<Figure size 360x360 with 2 Axes>"
      ]
     },
     "metadata": {},
     "output_type": "display_data"
    }
   ],
   "source": [
    "# Using the confusion matrix metric function in sklearn \n",
    "# and seaborn heat map to visualize the results\n",
    "cm = metrics.confusion_matrix(y_test,logpred)\n",
    "plt.figure(figsize=(5,5))\n",
    "sns.heatmap(cm, annot=True, fmt=\".0f\", linewidths=.5, square = True, cmap = 'Blues')\n",
    "plt.ylabel('Actual')\n",
    "plt.xlabel('Predicted')\n",
    "plt.title('Logistic Regression Confusion Matrix')\n",
    "sns.set(font_scale=1.2)"
   ]
  },
  {
   "cell_type": "code",
   "execution_count": 26,
   "metadata": {},
   "outputs": [
    {
     "name": "stdout",
     "output_type": "stream",
     "text": [
      "              precision    recall  f1-score   support\n",
      "\n",
      "           0       0.76      0.58      0.66      2672\n",
      "           1       0.80      0.90      0.85      4936\n",
      "\n",
      "    accuracy                           0.79      7608\n",
      "   macro avg       0.78      0.74      0.75      7608\n",
      "weighted avg       0.78      0.79      0.78      7608\n",
      "\n"
     ]
    }
   ],
   "source": [
    "# Using the classification report metric in sklearn\n",
    "for line in metrics.classification_report(y_test,logpred).split('\\n'):\n",
    "    print(line)"
   ]
  },
  {
   "cell_type": "code",
   "execution_count": 27,
   "metadata": {},
   "outputs": [
    {
     "name": "stdout",
     "output_type": "stream",
     "text": [
      "AUC Score = 0.837\n"
     ]
    }
   ],
   "source": [
    "# Using the roc_auc function is sklearn to cite the ROC score of the model\n",
    "roc_pred = logr.predict_proba(X_test)[:,1]\n",
    "roc = metrics.roc_auc_score(y_test, roc_pred)\n",
    "print('AUC Score =',round(roc,3))"
   ]
  },
  {
   "cell_type": "code",
   "execution_count": 28,
   "metadata": {},
   "outputs": [
    {
     "data": {
      "image/png": "[encoded data removed]",
      "text/plain": [
       "<Figure size 432x288 with 1 Axes>"
      ]
     },
     "metadata": {},
     "output_type": "display_data"
    }
   ],
   "source": [
    "# calculate the fpr and tpr for all thresholds of the classification\n",
    "fpr, tpr, threshold = metrics.roc_curve(y_test,roc_pred)\n",
    "roc_auc = metrics.auc(fpr, tpr)\n",
    "\n",
    "# Plotting ROC Curve using matplotlib\n",
    "plt.title('Receiver Operating Characteristic (ROC)')\n",
    "plt.plot(fpr, tpr, 'b', label = 'AUC = %0.2f' % roc_auc)\n",
    "plt.legend(loc = 'lower right')\n",
    "plt.plot([0, 1], [0, 1],'r--')\n",
    "plt.xlim([0, 1])\n",
    "plt.ylim([0, 1.2])\n",
    "plt.ylabel('True Positive Rate')\n",
    "plt.xlabel('False Positive Rate')\n",
    "plt.show()"
   ]
  },
  {
   "cell_type": "markdown",
   "metadata": {},
   "source": [
    "## 8: SVM Explanation"
   ]
  },
  {
   "cell_type": "markdown",
   "metadata": {},
   "source": [
    "SVM stands for Supprt Vector Machine. It is a algorithm that splits categories of data using a decision boundary and support vectors that touch each category. The space between the decision boundary and each of the support vectors is called a margin, and the larger the margin the better fitted the model. The model can be either linear or non-linear (3 dimensional seperated by a plane if there is not a clear seperation from a linear seperator) and the margins can be hard (no points can be inside of them) or soft (points are allowed in the margin, which is common practice). The seperator, or decision boundary is calculated using a kernel, which can be either a linear, polynomial, RBF, Sigmoid, or a precomputed formula or function."
   ]
  },
  {
   "cell_type": "markdown",
   "metadata": {},
   "source": [
    "## 9: Fitting a SVM Model"
   ]
  },
  {
   "cell_type": "code",
   "execution_count": 29,
   "metadata": {
    "scrolled": false
   },
   "outputs": [
    {
     "name": "stdout",
     "output_type": "stream",
     "text": [
      "C = 0.1\n",
      "AUC Score for C =  0.1 is  0.739\n",
      "              precision    recall  f1-score   support\n",
      "\n",
      "           0       0.86      0.53      0.65      2672\n",
      "           1       0.79      0.95      0.86      4936\n",
      "\n",
      "    accuracy                           0.80      7608\n",
      "   macro avg       0.82      0.74      0.76      7608\n",
      "weighted avg       0.81      0.80      0.79      7608\n",
      "\n",
      "C = 0.2\n",
      "AUC Score for C =  0.2 is  0.747\n",
      "              precision    recall  f1-score   support\n",
      "\n",
      "           0       0.86      0.54      0.66      2672\n",
      "           1       0.79      0.95      0.87      4936\n",
      "\n",
      "    accuracy                           0.81      7608\n",
      "   macro avg       0.83      0.75      0.76      7608\n",
      "weighted avg       0.82      0.81      0.79      7608\n",
      "\n",
      "C = 0.3\n",
      "AUC Score for C =  0.3 is  0.753\n",
      "              precision    recall  f1-score   support\n",
      "\n",
      "           0       0.86      0.56      0.68      2672\n",
      "           1       0.80      0.95      0.87      4936\n",
      "\n",
      "    accuracy                           0.81      7608\n",
      "   macro avg       0.83      0.75      0.77      7608\n",
      "weighted avg       0.82      0.81      0.80      7608\n",
      "\n",
      "C = 0.4\n",
      "AUC Score for C =  0.4 is  0.757\n",
      "              precision    recall  f1-score   support\n",
      "\n",
      "           0       0.87      0.56      0.68      2672\n",
      "           1       0.80      0.95      0.87      4936\n",
      "\n",
      "    accuracy                           0.82      7608\n",
      "   macro avg       0.83      0.76      0.78      7608\n",
      "weighted avg       0.82      0.82      0.80      7608\n",
      "\n",
      "C = 0.5\n",
      "AUC Score for C =  0.5 is  0.759\n",
      "              precision    recall  f1-score   support\n",
      "\n",
      "           0       0.87      0.56      0.68      2672\n",
      "           1       0.80      0.95      0.87      4936\n",
      "\n",
      "    accuracy                           0.82      7608\n",
      "   macro avg       0.84      0.76      0.78      7608\n",
      "weighted avg       0.83      0.82      0.81      7608\n",
      "\n",
      "C = 0.6\n",
      "AUC Score for C =  0.6 is  0.761\n",
      "              precision    recall  f1-score   support\n",
      "\n",
      "           0       0.87      0.57      0.69      2672\n",
      "           1       0.80      0.95      0.87      4936\n",
      "\n",
      "    accuracy                           0.82      7608\n",
      "   macro avg       0.84      0.76      0.78      7608\n",
      "weighted avg       0.83      0.82      0.81      7608\n",
      "\n",
      "C = 0.7\n",
      "AUC Score for C =  0.7 is  0.763\n",
      "              precision    recall  f1-score   support\n",
      "\n",
      "           0       0.87      0.57      0.69      2672\n",
      "           1       0.80      0.96      0.87      4936\n",
      "\n",
      "    accuracy                           0.82      7608\n",
      "   macro avg       0.84      0.76      0.78      7608\n",
      "weighted avg       0.83      0.82      0.81      7608\n",
      "\n",
      "C = 0.8\n",
      "AUC Score for C =  0.8 is  0.764\n",
      "              precision    recall  f1-score   support\n",
      "\n",
      "           0       0.88      0.57      0.69      2672\n",
      "           1       0.80      0.96      0.87      4936\n",
      "\n",
      "    accuracy                           0.82      7608\n",
      "   macro avg       0.84      0.76      0.78      7608\n",
      "weighted avg       0.83      0.82      0.81      7608\n",
      "\n",
      "C = 0.9\n",
      "AUC Score for C =  0.9 is  0.765\n",
      "              precision    recall  f1-score   support\n",
      "\n",
      "           0       0.88      0.57      0.69      2672\n",
      "           1       0.81      0.96      0.87      4936\n",
      "\n",
      "    accuracy                           0.82      7608\n",
      "   macro avg       0.84      0.76      0.78      7608\n",
      "weighted avg       0.83      0.82      0.81      7608\n",
      "\n",
      "C = 1.0\n",
      "AUC Score for C =  1.0 is  0.766\n",
      "              precision    recall  f1-score   support\n",
      "\n",
      "           0       0.88      0.58      0.69      2672\n",
      "           1       0.81      0.96      0.87      4936\n",
      "\n",
      "    accuracy                           0.82      7608\n",
      "   macro avg       0.84      0.77      0.78      7608\n",
      "weighted avg       0.83      0.82      0.81      7608\n",
      "\n"
     ]
    }
   ],
   "source": [
    "# First, I created a list of all the C values I will iterate in my for loop.\n",
    "# Then I will run the for loop abd run a SVM model with the new C value and print its classification reports\n",
    "# and AUC Score for each\n",
    "Clist = [0.1,0.2,0.3,0.4,0.5,0.6,0.7,0.8,0.9,1.0]\n",
    "\n",
    "for c in Clist:\n",
    "    svc = SVC(C=c)\n",
    "    svcfit = svc.fit(X_train,y_train)\n",
    "    svcpred = svcfit.predict(X_test)\n",
    "\n",
    "    print('C =',c)\n",
    "    roc2 = metrics.roc_auc_score(y_test, svcpred)\n",
    "    print('AUC Score for C = ',c,'is ',round(roc2,3))\n",
    "    for line in metrics.classification_report(y_test,svcpred).split('\\n'):\n",
    "        print(line)"
   ]
  },
  {
   "cell_type": "markdown",
   "metadata": {},
   "source": [
    "## 10: C Explanation"
   ]
  },
  {
   "cell_type": "markdown",
   "metadata": {},
   "source": [
    "The model with the highest C or Support Vector Classification is C = 1 with a score of 0.766.\n",
    "\n",
    "The C parameter sets how much weight to give to minimize error. The lower the number, the more you will ignore the error of the boundaries. So it is not surprising that the higher number is able to classify points in the dataset as the model chooses a smaller margin hyperplane."
   ]
  },
  {
   "cell_type": "markdown",
   "metadata": {},
   "source": [
    "## 11: Random Forest Model "
   ]
  },
  {
   "cell_type": "code",
   "execution_count": 30,
   "metadata": {},
   "outputs": [
    {
     "name": "stdout",
     "output_type": "stream",
     "text": [
      "THE AUC score for the model =  0.854 \n",
      "\n",
      "              precision    recall  f1-score   support\n",
      "\n",
      "           0       0.87      0.77      0.82      2672\n",
      "           1       0.88      0.94      0.91      4936\n",
      "\n",
      "    accuracy                           0.88      7608\n",
      "   macro avg       0.88      0.85      0.86      7608\n",
      "weighted avg       0.88      0.88      0.88      7608\n",
      "\n"
     ]
    }
   ],
   "source": [
    "rfm = RFC(random_state=42)\n",
    "rfmfit = rfm.fit(X_train,y_train)\n",
    "rfmpred = rfmfit.predict(X_test)\n",
    "\n",
    "# roc_pred = logr.predict_proba(X_test)[:,1]\n",
    "rfm_roc = metrics.roc_auc_score(y_test, rfmpred)\n",
    "print('THE AUC score for the model = ',round(rfm_roc,3),'\\n')\n",
    "\n",
    "for line in metrics.classification_report(y_test,rfmpred).split('\\n'):\n",
    "    print(line)"
   ]
  },
  {
   "cell_type": "markdown",
   "metadata": {},
   "source": [
    "## 12: Random Forest Explanation"
   ]
  },
  {
   "cell_type": "markdown",
   "metadata": {},
   "source": [
    "A random forest algorithm is a ensemble method model that uses many decision trees (the exact amount can be set a hyperparameter in the model) that are pooled together to make a final prediction. Each individual tree within the random forest will yield a class prediction, then a voting method is used in the final model to come up with the final prediction. Bagging is used to randomly select the variables within each tree, to create many low correlated trees, weaker trees, however in conjunction together they generally yield  strong results, as we see in this model where it is the strongest model of all the models tested. However, if we were to adjust to hyperparameters of each model, another may yield best results. In addition, bootstrapping method is used to select training data for each of the classifiers."
   ]
  }
 ],
 "metadata": {
  "kernelspec": {
   "display_name": "Python 3",
   "language": "python",
   "name": "python3"
  },
  "language_info": {
   "codemirror_mode": {
    "name": "ipython",
    "version": 3
   },
   "file_extension": ".py",
   "mimetype": "text/x-python",
   "name": "python",
   "nbconvert_exporter": "python",
   "pygments_lexer": "ipython3",
   "version": "3.8.5"
  },
  "latex_envs": {
   "LaTeX_envs_menu_present": true,
   "autoclose": false,
   "autocomplete": true,
   "bibliofile": "biblio.bib",
   "cite_by": "apalike",
   "current_citInitial": 1,
   "eqLabelWithNumbers": true,
   "eqNumInitial": 1,
   "hotkeys": {
    "equation": "Ctrl-E",
    "itemize": "Ctrl-I"
   },
   "labels_anchors": false,
   "latex_user_defs": false,
   "report_style_numbering": false,
   "user_envs_cfg": false
  }
 },
 "nbformat": 4,
 "nbformat_minor": 4
}
