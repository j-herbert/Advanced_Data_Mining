{
 "cells": [
  {
   "cell_type": "markdown",
   "metadata": {},
   "source": [
    "# Models Project 1"
   ]
  },
  {
   "cell_type": "markdown",
   "metadata": {},
   "source": [
    "## Task 1 - Logistic Regression"
   ]
  },
  {
   "cell_type": "markdown",
   "metadata": {},
   "source": [
    "### Importing Libraries"
   ]
  },
  {
   "cell_type": "code",
   "execution_count": 74,
   "metadata": {},
   "outputs": [],
   "source": [
    "# Libraries\n",
    "\n",
    "import os\n",
    "import pandas as pd\n",
    "import numpy as np\n",
    "import sklearn as sk\n",
    "import matplotlib.pyplot as plt"
   ]
  },
  {
   "cell_type": "markdown",
   "metadata": {},
   "source": [
    "### Importing Datasets"
   ]
  },
  {
   "cell_type": "code",
   "execution_count": 2,
   "metadata": {},
   "outputs": [],
   "source": [
    "path = 'kdd_training.csv'\n",
    "kdd_train = pd.read_csv(path)"
   ]
  },
  {
   "cell_type": "code",
   "execution_count": 3,
   "metadata": {},
   "outputs": [
    {
     "name": "stdout",
     "output_type": "stream",
     "text": [
      "Training Class = <class 'pandas.core.frame.DataFrame'>\n",
      "Training Shape = (7221, 44)\n",
      "Column Names = ['TARGET_B', 'TARGET_D', 'GiftCnt36', 'GiftCntAll', 'GiftCntCard36', 'GiftCntCardAll', 'GiftAvgLast', 'GiftAvg36', 'GiftAvgAll', 'GiftAvgCard36', 'GiftTimeLast', 'GiftTimeFirst', 'PromCnt12', 'PromCnt36', 'PromCntAll', 'PromCntCard12', 'PromCntCard36', 'PromCntCardAll', 'StatusCat96NK', 'StatusCatStarAll', 'DemCluster', 'DemAge', 'DemGender', 'DemHomeOwner', 'DemMedHomeValue', 'DemPctVeterans', 'DemMedIncome', 'GiftCntAll_M', 'GiftCntCardAll_M', 'GiftAvgCard36_M', 'PromCntCard12_M', 'DemAge_M', 'DemMedHomeValue_M', 'DemPctVeterans_M', 'DemMedIncome_M', 'StatusCat96NK_A', 'StatusCat96NK_E', 'StatusCat96NK_F', 'StatusCat96NK_L', 'StatusCat96NK_m', 'DemHomeOwner_H', 'DemGender_F', 'DemGender_U', '_ROLE_']\n"
     ]
    }
   ],
   "source": [
    "print('Training Class =',type(kdd_train))\n",
    "print('Training Shape =',kdd_train.shape)\n",
    "print('Column Names =',list(kdd_train.columns))"
   ]
  },
  {
   "cell_type": "code",
   "execution_count": 4,
   "metadata": {
    "scrolled": true
   },
   "outputs": [
    {
     "data": {
      "text/html": [
       "<div>\n",
       "<style scoped>\n",
       "    .dataframe tbody tr th:only-of-type {\n",
       "        vertical-align: middle;\n",
       "    }\n",
       "\n",
       "    .dataframe tbody tr th {\n",
       "        vertical-align: top;\n",
       "    }\n",
       "\n",
       "    .dataframe thead th {\n",
       "        text-align: right;\n",
       "    }\n",
       "</style>\n",
       "<table border=\"1\" class=\"dataframe\">\n",
       "  <thead>\n",
       "    <tr style=\"text-align: right;\">\n",
       "      <th></th>\n",
       "      <th>TARGET_B</th>\n",
       "      <th>TARGET_D</th>\n",
       "      <th>GiftCnt36</th>\n",
       "      <th>GiftCntAll</th>\n",
       "      <th>GiftCntCard36</th>\n",
       "      <th>GiftCntCardAll</th>\n",
       "      <th>GiftAvgLast</th>\n",
       "      <th>GiftAvg36</th>\n",
       "      <th>GiftAvgAll</th>\n",
       "      <th>GiftAvgCard36</th>\n",
       "      <th>...</th>\n",
       "      <th>DemMedIncome_M</th>\n",
       "      <th>StatusCat96NK_A</th>\n",
       "      <th>StatusCat96NK_E</th>\n",
       "      <th>StatusCat96NK_F</th>\n",
       "      <th>StatusCat96NK_L</th>\n",
       "      <th>StatusCat96NK_m</th>\n",
       "      <th>DemHomeOwner_H</th>\n",
       "      <th>DemGender_F</th>\n",
       "      <th>DemGender_U</th>\n",
       "      <th>_ROLE_</th>\n",
       "    </tr>\n",
       "  </thead>\n",
       "  <tbody>\n",
       "    <tr>\n",
       "      <th>0</th>\n",
       "      <td>0</td>\n",
       "      <td>NaN</td>\n",
       "      <td>1.098612</td>\n",
       "      <td>1.386294</td>\n",
       "      <td>1</td>\n",
       "      <td>1.386294</td>\n",
       "      <td>17.0</td>\n",
       "      <td>13.5</td>\n",
       "      <td>9.25</td>\n",
       "      <td>17.000000</td>\n",
       "      <td>...</td>\n",
       "      <td>1</td>\n",
       "      <td>1</td>\n",
       "      <td>0</td>\n",
       "      <td>0</td>\n",
       "      <td>0</td>\n",
       "      <td>0</td>\n",
       "      <td>0</td>\n",
       "      <td>1</td>\n",
       "      <td>0</td>\n",
       "      <td>Train</td>\n",
       "    </tr>\n",
       "    <tr>\n",
       "      <th>1</th>\n",
       "      <td>0</td>\n",
       "      <td>NaN</td>\n",
       "      <td>0.693147</td>\n",
       "      <td>2.079442</td>\n",
       "      <td>0</td>\n",
       "      <td>1.386294</td>\n",
       "      <td>20.0</td>\n",
       "      <td>20.0</td>\n",
       "      <td>15.88</td>\n",
       "      <td>13.972979</td>\n",
       "      <td>...</td>\n",
       "      <td>0</td>\n",
       "      <td>1</td>\n",
       "      <td>0</td>\n",
       "      <td>0</td>\n",
       "      <td>0</td>\n",
       "      <td>0</td>\n",
       "      <td>0</td>\n",
       "      <td>1</td>\n",
       "      <td>0</td>\n",
       "      <td>Train</td>\n",
       "    </tr>\n",
       "    <tr>\n",
       "      <th>2</th>\n",
       "      <td>1</td>\n",
       "      <td>40.0</td>\n",
       "      <td>0.693147</td>\n",
       "      <td>1.098612</td>\n",
       "      <td>0</td>\n",
       "      <td>0.693147</td>\n",
       "      <td>35.0</td>\n",
       "      <td>35.0</td>\n",
       "      <td>28.33</td>\n",
       "      <td>13.972979</td>\n",
       "      <td>...</td>\n",
       "      <td>0</td>\n",
       "      <td>1</td>\n",
       "      <td>0</td>\n",
       "      <td>0</td>\n",
       "      <td>0</td>\n",
       "      <td>0</td>\n",
       "      <td>0</td>\n",
       "      <td>1</td>\n",
       "      <td>0</td>\n",
       "      <td>Train</td>\n",
       "    </tr>\n",
       "    <tr>\n",
       "      <th>3</th>\n",
       "      <td>1</td>\n",
       "      <td>50.0</td>\n",
       "      <td>1.098612</td>\n",
       "      <td>0.693147</td>\n",
       "      <td>1</td>\n",
       "      <td>0.693147</td>\n",
       "      <td>20.0</td>\n",
       "      <td>12.5</td>\n",
       "      <td>12.50</td>\n",
       "      <td>5.000000</td>\n",
       "      <td>...</td>\n",
       "      <td>1</td>\n",
       "      <td>1</td>\n",
       "      <td>0</td>\n",
       "      <td>0</td>\n",
       "      <td>0</td>\n",
       "      <td>0</td>\n",
       "      <td>1</td>\n",
       "      <td>1</td>\n",
       "      <td>0</td>\n",
       "      <td>Train</td>\n",
       "    </tr>\n",
       "    <tr>\n",
       "      <th>4</th>\n",
       "      <td>0</td>\n",
       "      <td>NaN</td>\n",
       "      <td>1.609438</td>\n",
       "      <td>1.609438</td>\n",
       "      <td>1</td>\n",
       "      <td>0.693147</td>\n",
       "      <td>10.0</td>\n",
       "      <td>41.5</td>\n",
       "      <td>35.20</td>\n",
       "      <td>50.000000</td>\n",
       "      <td>...</td>\n",
       "      <td>0</td>\n",
       "      <td>1</td>\n",
       "      <td>0</td>\n",
       "      <td>0</td>\n",
       "      <td>0</td>\n",
       "      <td>0</td>\n",
       "      <td>0</td>\n",
       "      <td>1</td>\n",
       "      <td>0</td>\n",
       "      <td>Train</td>\n",
       "    </tr>\n",
       "  </tbody>\n",
       "</table>\n",
       "<p>5 rows × 44 columns</p>\n",
       "</div>"
      ],
      "text/plain": [
       "   TARGET_B  TARGET_D  GiftCnt36  GiftCntAll  GiftCntCard36  GiftCntCardAll  \\\n",
       "0         0       NaN   1.098612    1.386294              1        1.386294   \n",
       "1         0       NaN   0.693147    2.079442              0        1.386294   \n",
       "2         1      40.0   0.693147    1.098612              0        0.693147   \n",
       "3         1      50.0   1.098612    0.693147              1        0.693147   \n",
       "4         0       NaN   1.609438    1.609438              1        0.693147   \n",
       "\n",
       "   GiftAvgLast  GiftAvg36  GiftAvgAll  GiftAvgCard36  ...  DemMedIncome_M  \\\n",
       "0         17.0       13.5        9.25      17.000000  ...               1   \n",
       "1         20.0       20.0       15.88      13.972979  ...               0   \n",
       "2         35.0       35.0       28.33      13.972979  ...               0   \n",
       "3         20.0       12.5       12.50       5.000000  ...               1   \n",
       "4         10.0       41.5       35.20      50.000000  ...               0   \n",
       "\n",
       "   StatusCat96NK_A  StatusCat96NK_E  StatusCat96NK_F  StatusCat96NK_L  \\\n",
       "0                1                0                0                0   \n",
       "1                1                0                0                0   \n",
       "2                1                0                0                0   \n",
       "3                1                0                0                0   \n",
       "4                1                0                0                0   \n",
       "\n",
       "   StatusCat96NK_m  DemHomeOwner_H  DemGender_F DemGender_U  _ROLE_  \n",
       "0                0               0            1           0   Train  \n",
       "1                0               0            1           0   Train  \n",
       "2                0               0            1           0   Train  \n",
       "3                0               1            1           0   Train  \n",
       "4                0               0            1           0   Train  \n",
       "\n",
       "[5 rows x 44 columns]"
      ]
     },
     "execution_count": 4,
     "metadata": {},
     "output_type": "execute_result"
    }
   ],
   "source": [
    "kdd_train.head()"
   ]
  },
  {
   "cell_type": "code",
   "execution_count": 5,
   "metadata": {},
   "outputs": [],
   "source": [
    "path = 'kdd_validation.csv'\n",
    "kdd_validate = pd.read_csv(path)"
   ]
  },
  {
   "cell_type": "code",
   "execution_count": 6,
   "metadata": {},
   "outputs": [
    {
     "name": "stdout",
     "output_type": "stream",
     "text": [
      "Validation Class = <class 'pandas.core.frame.DataFrame'>\n",
      "Validation Shape = (2465, 44)\n",
      "Column Names = ['TARGET_B', 'TARGET_D', 'GiftCnt36', 'GiftCntAll', 'GiftCntCard36', 'GiftCntCardAll', 'GiftAvgLast', 'GiftAvg36', 'GiftAvgAll', 'GiftAvgCard36', 'GiftTimeLast', 'GiftTimeFirst', 'PromCnt12', 'PromCnt36', 'PromCntAll', 'PromCntCard12', 'PromCntCard36', 'PromCntCardAll', 'StatusCat96NK', 'StatusCatStarAll', 'DemCluster', 'DemAge', 'DemGender', 'DemHomeOwner', 'DemMedHomeValue', 'DemPctVeterans', 'DemMedIncome', 'GiftCntAll_M', 'GiftCntCardAll_M', 'GiftAvgCard36_M', 'PromCntCard12_M', 'DemAge_M', 'DemMedHomeValue_M', 'DemPctVeterans_M', 'DemMedIncome_M', 'StatusCat96NK_A', 'StatusCat96NK_E', 'StatusCat96NK_F', 'StatusCat96NK_L', 'StatusCat96NK_m', 'DemHomeOwner_H', 'DemGender_F', 'DemGender_U', '_ROLE_']\n"
     ]
    }
   ],
   "source": [
    "print('Validation Class =',type(kdd_validate))\n",
    "print('Validation Shape =',kdd_validate.shape)\n",
    "print('Column Names =',list(kdd_validate.columns))"
   ]
  },
  {
   "cell_type": "code",
   "execution_count": 7,
   "metadata": {},
   "outputs": [
    {
     "data": {
      "text/html": [
       "<div>\n",
       "<style scoped>\n",
       "    .dataframe tbody tr th:only-of-type {\n",
       "        vertical-align: middle;\n",
       "    }\n",
       "\n",
       "    .dataframe tbody tr th {\n",
       "        vertical-align: top;\n",
       "    }\n",
       "\n",
       "    .dataframe thead th {\n",
       "        text-align: right;\n",
       "    }\n",
       "</style>\n",
       "<table border=\"1\" class=\"dataframe\">\n",
       "  <thead>\n",
       "    <tr style=\"text-align: right;\">\n",
       "      <th></th>\n",
       "      <th>TARGET_B</th>\n",
       "      <th>TARGET_D</th>\n",
       "      <th>GiftCnt36</th>\n",
       "      <th>GiftCntAll</th>\n",
       "      <th>GiftCntCard36</th>\n",
       "      <th>GiftCntCardAll</th>\n",
       "      <th>GiftAvgLast</th>\n",
       "      <th>GiftAvg36</th>\n",
       "      <th>GiftAvgAll</th>\n",
       "      <th>GiftAvgCard36</th>\n",
       "      <th>...</th>\n",
       "      <th>DemMedIncome_M</th>\n",
       "      <th>StatusCat96NK_A</th>\n",
       "      <th>StatusCat96NK_E</th>\n",
       "      <th>StatusCat96NK_F</th>\n",
       "      <th>StatusCat96NK_L</th>\n",
       "      <th>StatusCat96NK_m</th>\n",
       "      <th>DemHomeOwner_H</th>\n",
       "      <th>DemGender_F</th>\n",
       "      <th>DemGender_U</th>\n",
       "      <th>_ROLE_</th>\n",
       "    </tr>\n",
       "  </thead>\n",
       "  <tbody>\n",
       "    <tr>\n",
       "      <th>0</th>\n",
       "      <td>1</td>\n",
       "      <td>15.0</td>\n",
       "      <td>1.098612</td>\n",
       "      <td>0.693147</td>\n",
       "      <td>1</td>\n",
       "      <td>0.693147</td>\n",
       "      <td>15.0</td>\n",
       "      <td>10.00</td>\n",
       "      <td>10.00</td>\n",
       "      <td>5.0</td>\n",
       "      <td>...</td>\n",
       "      <td>0</td>\n",
       "      <td>1</td>\n",
       "      <td>0</td>\n",
       "      <td>0</td>\n",
       "      <td>0</td>\n",
       "      <td>0</td>\n",
       "      <td>1</td>\n",
       "      <td>1</td>\n",
       "      <td>0</td>\n",
       "      <td>Validate</td>\n",
       "    </tr>\n",
       "    <tr>\n",
       "      <th>1</th>\n",
       "      <td>0</td>\n",
       "      <td>NaN</td>\n",
       "      <td>1.098612</td>\n",
       "      <td>1.098612</td>\n",
       "      <td>1</td>\n",
       "      <td>0.693147</td>\n",
       "      <td>20.0</td>\n",
       "      <td>16.00</td>\n",
       "      <td>14.00</td>\n",
       "      <td>20.0</td>\n",
       "      <td>...</td>\n",
       "      <td>0</td>\n",
       "      <td>1</td>\n",
       "      <td>0</td>\n",
       "      <td>0</td>\n",
       "      <td>0</td>\n",
       "      <td>0</td>\n",
       "      <td>0</td>\n",
       "      <td>1</td>\n",
       "      <td>0</td>\n",
       "      <td>Validate</td>\n",
       "    </tr>\n",
       "    <tr>\n",
       "      <th>2</th>\n",
       "      <td>1</td>\n",
       "      <td>10.0</td>\n",
       "      <td>1.609438</td>\n",
       "      <td>2.639057</td>\n",
       "      <td>2</td>\n",
       "      <td>2.079442</td>\n",
       "      <td>10.0</td>\n",
       "      <td>8.50</td>\n",
       "      <td>6.93</td>\n",
       "      <td>9.5</td>\n",
       "      <td>...</td>\n",
       "      <td>0</td>\n",
       "      <td>1</td>\n",
       "      <td>0</td>\n",
       "      <td>0</td>\n",
       "      <td>0</td>\n",
       "      <td>0</td>\n",
       "      <td>1</td>\n",
       "      <td>1</td>\n",
       "      <td>0</td>\n",
       "      <td>Validate</td>\n",
       "    </tr>\n",
       "    <tr>\n",
       "      <th>3</th>\n",
       "      <td>0</td>\n",
       "      <td>NaN</td>\n",
       "      <td>1.386294</td>\n",
       "      <td>1.098612</td>\n",
       "      <td>2</td>\n",
       "      <td>1.098612</td>\n",
       "      <td>15.0</td>\n",
       "      <td>10.33</td>\n",
       "      <td>10.33</td>\n",
       "      <td>8.0</td>\n",
       "      <td>...</td>\n",
       "      <td>0</td>\n",
       "      <td>1</td>\n",
       "      <td>0</td>\n",
       "      <td>0</td>\n",
       "      <td>0</td>\n",
       "      <td>0</td>\n",
       "      <td>1</td>\n",
       "      <td>1</td>\n",
       "      <td>0</td>\n",
       "      <td>Validate</td>\n",
       "    </tr>\n",
       "    <tr>\n",
       "      <th>4</th>\n",
       "      <td>0</td>\n",
       "      <td>NaN</td>\n",
       "      <td>0.693147</td>\n",
       "      <td>1.609438</td>\n",
       "      <td>1</td>\n",
       "      <td>1.098612</td>\n",
       "      <td>15.0</td>\n",
       "      <td>15.00</td>\n",
       "      <td>12.00</td>\n",
       "      <td>15.0</td>\n",
       "      <td>...</td>\n",
       "      <td>0</td>\n",
       "      <td>1</td>\n",
       "      <td>0</td>\n",
       "      <td>0</td>\n",
       "      <td>0</td>\n",
       "      <td>0</td>\n",
       "      <td>1</td>\n",
       "      <td>1</td>\n",
       "      <td>0</td>\n",
       "      <td>Validate</td>\n",
       "    </tr>\n",
       "  </tbody>\n",
       "</table>\n",
       "<p>5 rows × 44 columns</p>\n",
       "</div>"
      ],
      "text/plain": [
       "   TARGET_B  TARGET_D  GiftCnt36  GiftCntAll  GiftCntCard36  GiftCntCardAll  \\\n",
       "0         1      15.0   1.098612    0.693147              1        0.693147   \n",
       "1         0       NaN   1.098612    1.098612              1        0.693147   \n",
       "2         1      10.0   1.609438    2.639057              2        2.079442   \n",
       "3         0       NaN   1.386294    1.098612              2        1.098612   \n",
       "4         0       NaN   0.693147    1.609438              1        1.098612   \n",
       "\n",
       "   GiftAvgLast  GiftAvg36  GiftAvgAll  GiftAvgCard36  ...  DemMedIncome_M  \\\n",
       "0         15.0      10.00       10.00            5.0  ...               0   \n",
       "1         20.0      16.00       14.00           20.0  ...               0   \n",
       "2         10.0       8.50        6.93            9.5  ...               0   \n",
       "3         15.0      10.33       10.33            8.0  ...               0   \n",
       "4         15.0      15.00       12.00           15.0  ...               0   \n",
       "\n",
       "   StatusCat96NK_A  StatusCat96NK_E  StatusCat96NK_F  StatusCat96NK_L  \\\n",
       "0                1                0                0                0   \n",
       "1                1                0                0                0   \n",
       "2                1                0                0                0   \n",
       "3                1                0                0                0   \n",
       "4                1                0                0                0   \n",
       "\n",
       "   StatusCat96NK_m  DemHomeOwner_H  DemGender_F DemGender_U    _ROLE_  \n",
       "0                0               1            1           0  Validate  \n",
       "1                0               0            1           0  Validate  \n",
       "2                0               1            1           0  Validate  \n",
       "3                0               1            1           0  Validate  \n",
       "4                0               1            1           0  Validate  \n",
       "\n",
       "[5 rows x 44 columns]"
      ]
     },
     "execution_count": 7,
     "metadata": {},
     "output_type": "execute_result"
    }
   ],
   "source": [
    "kdd_validate.head()"
   ]
  },
  {
   "cell_type": "markdown",
   "metadata": {},
   "source": [
    "### Dropping Unused Columns"
   ]
  },
  {
   "cell_type": "code",
   "execution_count": 98,
   "metadata": {},
   "outputs": [
    {
     "data": {
      "text/html": [
       "<div>\n",
       "<style scoped>\n",
       "    .dataframe tbody tr th:only-of-type {\n",
       "        vertical-align: middle;\n",
       "    }\n",
       "\n",
       "    .dataframe tbody tr th {\n",
       "        vertical-align: top;\n",
       "    }\n",
       "\n",
       "    .dataframe thead th {\n",
       "        text-align: right;\n",
       "    }\n",
       "</style>\n",
       "<table border=\"1\" class=\"dataframe\">\n",
       "  <thead>\n",
       "    <tr style=\"text-align: right;\">\n",
       "      <th></th>\n",
       "      <th>GiftCnt36</th>\n",
       "      <th>GiftCntCardAll</th>\n",
       "      <th>GiftAvgCard36</th>\n",
       "      <th>GiftTimeLast</th>\n",
       "      <th>GiftTimeFirst</th>\n",
       "      <th>PromCnt12</th>\n",
       "      <th>PromCntCard12</th>\n",
       "      <th>PromCntCardAll</th>\n",
       "      <th>StatusCatStarAll</th>\n",
       "      <th>DemMedHomeValue</th>\n",
       "      <th>DemMedIncome</th>\n",
       "      <th>GiftAvgCard36_M</th>\n",
       "      <th>DemAge_M</th>\n",
       "      <th>DemMedHomeValue_M</th>\n",
       "      <th>StatusCat96NK_E</th>\n",
       "      <th>StatusCat96NK_F</th>\n",
       "    </tr>\n",
       "  </thead>\n",
       "  <tbody>\n",
       "    <tr>\n",
       "      <th>0</th>\n",
       "      <td>1.098612</td>\n",
       "      <td>1.386294</td>\n",
       "      <td>17.000000</td>\n",
       "      <td>21</td>\n",
       "      <td>4.189655</td>\n",
       "      <td>8</td>\n",
       "      <td>3.0</td>\n",
       "      <td>2.564949</td>\n",
       "      <td>0</td>\n",
       "      <td>4.716481</td>\n",
       "      <td>31.777503</td>\n",
       "      <td>0</td>\n",
       "      <td>1</td>\n",
       "      <td>1</td>\n",
       "      <td>0</td>\n",
       "      <td>0</td>\n",
       "    </tr>\n",
       "    <tr>\n",
       "      <th>1</th>\n",
       "      <td>0.693147</td>\n",
       "      <td>1.386294</td>\n",
       "      <td>13.972979</td>\n",
       "      <td>26</td>\n",
       "      <td>4.521789</td>\n",
       "      <td>14</td>\n",
       "      <td>5.0</td>\n",
       "      <td>3.178054</td>\n",
       "      <td>0</td>\n",
       "      <td>5.225747</td>\n",
       "      <td>85.000000</td>\n",
       "      <td>1</td>\n",
       "      <td>0</td>\n",
       "      <td>0</td>\n",
       "      <td>0</td>\n",
       "      <td>0</td>\n",
       "    </tr>\n",
       "    <tr>\n",
       "      <th>2</th>\n",
       "      <td>0.693147</td>\n",
       "      <td>0.693147</td>\n",
       "      <td>13.972979</td>\n",
       "      <td>17</td>\n",
       "      <td>3.784190</td>\n",
       "      <td>15</td>\n",
       "      <td>6.0</td>\n",
       "      <td>3.091042</td>\n",
       "      <td>0</td>\n",
       "      <td>4.919981</td>\n",
       "      <td>32.000000</td>\n",
       "      <td>1</td>\n",
       "      <td>1</td>\n",
       "      <td>0</td>\n",
       "      <td>0</td>\n",
       "      <td>0</td>\n",
       "    </tr>\n",
       "    <tr>\n",
       "      <th>3</th>\n",
       "      <td>1.098612</td>\n",
       "      <td>0.693147</td>\n",
       "      <td>5.000000</td>\n",
       "      <td>18</td>\n",
       "      <td>3.295837</td>\n",
       "      <td>11</td>\n",
       "      <td>5.0</td>\n",
       "      <td>2.197225</td>\n",
       "      <td>0</td>\n",
       "      <td>4.716481</td>\n",
       "      <td>31.777503</td>\n",
       "      <td>0</td>\n",
       "      <td>0</td>\n",
       "      <td>1</td>\n",
       "      <td>0</td>\n",
       "      <td>0</td>\n",
       "    </tr>\n",
       "    <tr>\n",
       "      <th>4</th>\n",
       "      <td>1.609438</td>\n",
       "      <td>0.693147</td>\n",
       "      <td>50.000000</td>\n",
       "      <td>18</td>\n",
       "      <td>3.496508</td>\n",
       "      <td>14</td>\n",
       "      <td>6.0</td>\n",
       "      <td>2.564949</td>\n",
       "      <td>0</td>\n",
       "      <td>4.248495</td>\n",
       "      <td>37.000000</td>\n",
       "      <td>0</td>\n",
       "      <td>1</td>\n",
       "      <td>0</td>\n",
       "      <td>0</td>\n",
       "      <td>0</td>\n",
       "    </tr>\n",
       "  </tbody>\n",
       "</table>\n",
       "</div>"
      ],
      "text/plain": [
       "   GiftCnt36  GiftCntCardAll  GiftAvgCard36  GiftTimeLast  GiftTimeFirst  \\\n",
       "0   1.098612        1.386294      17.000000            21       4.189655   \n",
       "1   0.693147        1.386294      13.972979            26       4.521789   \n",
       "2   0.693147        0.693147      13.972979            17       3.784190   \n",
       "3   1.098612        0.693147       5.000000            18       3.295837   \n",
       "4   1.609438        0.693147      50.000000            18       3.496508   \n",
       "\n",
       "   PromCnt12  PromCntCard12  PromCntCardAll  StatusCatStarAll  \\\n",
       "0          8            3.0        2.564949                 0   \n",
       "1         14            5.0        3.178054                 0   \n",
       "2         15            6.0        3.091042                 0   \n",
       "3         11            5.0        2.197225                 0   \n",
       "4         14            6.0        2.564949                 0   \n",
       "\n",
       "   DemMedHomeValue  DemMedIncome  GiftAvgCard36_M  DemAge_M  \\\n",
       "0         4.716481     31.777503                0         1   \n",
       "1         5.225747     85.000000                1         0   \n",
       "2         4.919981     32.000000                1         1   \n",
       "3         4.716481     31.777503                0         0   \n",
       "4         4.248495     37.000000                0         1   \n",
       "\n",
       "   DemMedHomeValue_M  StatusCat96NK_E  StatusCat96NK_F  \n",
       "0                  1                0                0  \n",
       "1                  0                0                0  \n",
       "2                  0                0                0  \n",
       "3                  1                0                0  \n",
       "4                  0                0                0  "
      ]
     },
     "execution_count": 98,
     "metadata": {},
     "output_type": "execute_result"
    }
   ],
   "source": [
    "kdd_train_X = kdd_train.iloc[:,[2,5,9,10,11,12,15,17,19,24,26,29,31,32,36,37]]\n",
    "# 2,5,9,10,11,12,15,17,19,24,26,29,31,32,36,37\n",
    "kdd_train_y = kdd_train.iloc[:,0]\n",
    "kdd_train_X.head()"
   ]
  },
  {
   "cell_type": "code",
   "execution_count": 76,
   "metadata": {},
   "outputs": [
    {
     "data": {
      "text/plain": [
       "(7221, 8)"
      ]
     },
     "execution_count": 76,
     "metadata": {},
     "output_type": "execute_result"
    }
   ],
   "source": [
    "kdd_train_X.shape"
   ]
  },
  {
   "cell_type": "code",
   "execution_count": 99,
   "metadata": {},
   "outputs": [],
   "source": [
    "kdd_train_X = kdd_train_X.to_numpy()\n",
    "kdd_train_y = kdd_train_y.to_numpy()"
   ]
  },
  {
   "cell_type": "code",
   "execution_count": 100,
   "metadata": {
    "scrolled": true
   },
   "outputs": [
    {
     "data": {
      "text/html": [
       "<div>\n",
       "<style scoped>\n",
       "    .dataframe tbody tr th:only-of-type {\n",
       "        vertical-align: middle;\n",
       "    }\n",
       "\n",
       "    .dataframe tbody tr th {\n",
       "        vertical-align: top;\n",
       "    }\n",
       "\n",
       "    .dataframe thead th {\n",
       "        text-align: right;\n",
       "    }\n",
       "</style>\n",
       "<table border=\"1\" class=\"dataframe\">\n",
       "  <thead>\n",
       "    <tr style=\"text-align: right;\">\n",
       "      <th></th>\n",
       "      <th>GiftCnt36</th>\n",
       "      <th>GiftCntCardAll</th>\n",
       "      <th>GiftAvgCard36</th>\n",
       "      <th>GiftTimeLast</th>\n",
       "      <th>GiftTimeFirst</th>\n",
       "      <th>PromCnt12</th>\n",
       "      <th>PromCntCard12</th>\n",
       "      <th>PromCntCardAll</th>\n",
       "      <th>StatusCatStarAll</th>\n",
       "      <th>DemMedHomeValue</th>\n",
       "      <th>DemMedIncome</th>\n",
       "      <th>GiftAvgCard36_M</th>\n",
       "      <th>DemAge_M</th>\n",
       "      <th>DemMedHomeValue_M</th>\n",
       "      <th>StatusCat96NK_E</th>\n",
       "      <th>StatusCat96NK_F</th>\n",
       "    </tr>\n",
       "  </thead>\n",
       "  <tbody>\n",
       "    <tr>\n",
       "      <th>0</th>\n",
       "      <td>1.098612</td>\n",
       "      <td>0.693147</td>\n",
       "      <td>5.0</td>\n",
       "      <td>18</td>\n",
       "      <td>3.367296</td>\n",
       "      <td>10</td>\n",
       "      <td>4</td>\n",
       "      <td>2.079442</td>\n",
       "      <td>0</td>\n",
       "      <td>3.806662</td>\n",
       "      <td>31.0</td>\n",
       "      <td>0</td>\n",
       "      <td>0</td>\n",
       "      <td>0</td>\n",
       "      <td>0</td>\n",
       "      <td>0</td>\n",
       "    </tr>\n",
       "    <tr>\n",
       "      <th>1</th>\n",
       "      <td>1.098612</td>\n",
       "      <td>0.693147</td>\n",
       "      <td>20.0</td>\n",
       "      <td>24</td>\n",
       "      <td>3.784190</td>\n",
       "      <td>11</td>\n",
       "      <td>6</td>\n",
       "      <td>2.564949</td>\n",
       "      <td>0</td>\n",
       "      <td>4.219508</td>\n",
       "      <td>40.0</td>\n",
       "      <td>0</td>\n",
       "      <td>0</td>\n",
       "      <td>0</td>\n",
       "      <td>0</td>\n",
       "      <td>0</td>\n",
       "    </tr>\n",
       "    <tr>\n",
       "      <th>2</th>\n",
       "      <td>1.609438</td>\n",
       "      <td>2.079442</td>\n",
       "      <td>9.5</td>\n",
       "      <td>23</td>\n",
       "      <td>4.844187</td>\n",
       "      <td>12</td>\n",
       "      <td>6</td>\n",
       "      <td>3.367296</td>\n",
       "      <td>0</td>\n",
       "      <td>5.003946</td>\n",
       "      <td>40.0</td>\n",
       "      <td>0</td>\n",
       "      <td>0</td>\n",
       "      <td>0</td>\n",
       "      <td>0</td>\n",
       "      <td>0</td>\n",
       "    </tr>\n",
       "    <tr>\n",
       "      <th>3</th>\n",
       "      <td>1.386294</td>\n",
       "      <td>1.098612</td>\n",
       "      <td>8.0</td>\n",
       "      <td>18</td>\n",
       "      <td>3.465736</td>\n",
       "      <td>12</td>\n",
       "      <td>6</td>\n",
       "      <td>2.397895</td>\n",
       "      <td>0</td>\n",
       "      <td>4.189655</td>\n",
       "      <td>20.0</td>\n",
       "      <td>0</td>\n",
       "      <td>0</td>\n",
       "      <td>0</td>\n",
       "      <td>0</td>\n",
       "      <td>0</td>\n",
       "    </tr>\n",
       "    <tr>\n",
       "      <th>4</th>\n",
       "      <td>0.693147</td>\n",
       "      <td>1.098612</td>\n",
       "      <td>15.0</td>\n",
       "      <td>21</td>\n",
       "      <td>4.158883</td>\n",
       "      <td>10</td>\n",
       "      <td>4</td>\n",
       "      <td>2.708050</td>\n",
       "      <td>0</td>\n",
       "      <td>4.330733</td>\n",
       "      <td>28.0</td>\n",
       "      <td>0</td>\n",
       "      <td>0</td>\n",
       "      <td>0</td>\n",
       "      <td>0</td>\n",
       "      <td>0</td>\n",
       "    </tr>\n",
       "  </tbody>\n",
       "</table>\n",
       "</div>"
      ],
      "text/plain": [
       "   GiftCnt36  GiftCntCardAll  GiftAvgCard36  GiftTimeLast  GiftTimeFirst  \\\n",
       "0   1.098612        0.693147            5.0            18       3.367296   \n",
       "1   1.098612        0.693147           20.0            24       3.784190   \n",
       "2   1.609438        2.079442            9.5            23       4.844187   \n",
       "3   1.386294        1.098612            8.0            18       3.465736   \n",
       "4   0.693147        1.098612           15.0            21       4.158883   \n",
       "\n",
       "   PromCnt12  PromCntCard12  PromCntCardAll  StatusCatStarAll  \\\n",
       "0         10              4        2.079442                 0   \n",
       "1         11              6        2.564949                 0   \n",
       "2         12              6        3.367296                 0   \n",
       "3         12              6        2.397895                 0   \n",
       "4         10              4        2.708050                 0   \n",
       "\n",
       "   DemMedHomeValue  DemMedIncome  GiftAvgCard36_M  DemAge_M  \\\n",
       "0         3.806662          31.0                0         0   \n",
       "1         4.219508          40.0                0         0   \n",
       "2         5.003946          40.0                0         0   \n",
       "3         4.189655          20.0                0         0   \n",
       "4         4.330733          28.0                0         0   \n",
       "\n",
       "   DemMedHomeValue_M  StatusCat96NK_E  StatusCat96NK_F  \n",
       "0                  0                0                0  \n",
       "1                  0                0                0  \n",
       "2                  0                0                0  \n",
       "3                  0                0                0  \n",
       "4                  0                0                0  "
      ]
     },
     "execution_count": 100,
     "metadata": {},
     "output_type": "execute_result"
    }
   ],
   "source": [
    "kdd_validate_X = kdd_validate.iloc[:,[2,5,9,10,11,12,15,17,19,24,26,29,31,32,36,37]]\n",
    "kdd_validate_y = kdd_validate.iloc[:,0]\n",
    "kdd_validate_X.head()"
   ]
  },
  {
   "cell_type": "markdown",
   "metadata": {},
   "source": [
    "### Building Model 1 - Logistic Regression"
   ]
  },
  {
   "cell_type": "code",
   "execution_count": 79,
   "metadata": {},
   "outputs": [],
   "source": [
    "from sklearn.linear_model import LogisticRegression\n",
    "from sklearn import metrics\n",
    "import seaborn as sns"
   ]
  },
  {
   "cell_type": "code",
   "execution_count": 80,
   "metadata": {},
   "outputs": [],
   "source": [
    "logisticRegr = LogisticRegression(max_iter=10000)"
   ]
  },
  {
   "cell_type": "code",
   "execution_count": 101,
   "metadata": {
    "scrolled": true
   },
   "outputs": [
    {
     "data": {
      "text/plain": [
       "LogisticRegression(max_iter=10000)"
      ]
     },
     "execution_count": 101,
     "metadata": {},
     "output_type": "execute_result"
    }
   ],
   "source": [
    "logisticRegr.fit(kdd_train_X,kdd_train_y)"
   ]
  },
  {
   "cell_type": "code",
   "execution_count": 102,
   "metadata": {},
   "outputs": [],
   "source": [
    "predictions = logisticRegr.predict(kdd_validate_X)"
   ]
  },
  {
   "cell_type": "markdown",
   "metadata": {},
   "source": [
    "### Analysis of Model 1"
   ]
  },
  {
   "cell_type": "code",
   "execution_count": 103,
   "metadata": {
    "scrolled": true
   },
   "outputs": [],
   "source": [
    "cm = metrics.confusion_matrix(kdd_validate_y,predictions)"
   ]
  },
  {
   "cell_type": "code",
   "execution_count": 104,
   "metadata": {},
   "outputs": [],
   "source": [
    "TP = cm[1,1]\n",
    "FP = cm[0,1]\n",
    "FN = cm[1,0]\n",
    "TN = cm[0,0]\n",
    "precision = TP/(TP+FP)\n",
    "accuracy = (TP+TN)/(TP+TN+FN+FP)\n",
    "recall = TP/(TP+FN)"
   ]
  },
  {
   "cell_type": "code",
   "execution_count": 105,
   "metadata": {},
   "outputs": [
    {
     "name": "stdout",
     "output_type": "stream",
     "text": [
      "Model 1 Accuracy: 0.57\n",
      "Model 1 Precision: 0.56\n",
      "Model 1 Recall: 0.59\n"
     ]
    }
   ],
   "source": [
    "print('Model 1 Accuracy: {0:0.2f}'.format(accuracy))\n",
    "print('Model 1 Precision: {0:0.2f}'.format(precision))\n",
    "print('Model 1 Recall: {0:0.2f}'.format(recall))"
   ]
  },
  {
   "cell_type": "code",
   "execution_count": 108,
   "metadata": {
    "scrolled": true
   },
   "outputs": [
    {
     "data": {
      "image/png": "[encoded data removed]",
      "text/plain": [
       "<Figure size 360x360 with 2 Axes>"
      ]
     },
     "metadata": {},
     "output_type": "display_data"
    }
   ],
   "source": [
    "plt.figure(figsize=(5,5))\n",
    "sns.heatmap(cm, annot=True, fmt=\".0f\", linewidths=.5, square = True, cmap = 'Blues')\n",
    "plt.ylabel('Actual')\n",
    "plt.xlabel('Predicted')\n",
    "plt.title('Logistic Regression Confusion Matrix')\n",
    "sns.set(font_scale=1.2)"
   ]
  },
  {
   "cell_type": "markdown",
   "metadata": {},
   "source": [
    "### Building Model 2 - Random Forest"
   ]
  },
  {
   "cell_type": "code",
   "execution_count": 110,
   "metadata": {},
   "outputs": [],
   "source": [
    "from sklearn.ensemble import RandomForestRegressor\n",
    "from sklearn.model_selection import cross_val_score, GridSearchCV\n",
    "from sklearn.preprocessing import MinMaxScaler"
   ]
  },
  {
   "cell_type": "code",
   "execution_count": 113,
   "metadata": {},
   "outputs": [
    {
     "data": {
      "text/plain": [
       "RandomForestRegressor(n_estimators=1000, random_state=42)"
      ]
     },
     "execution_count": 113,
     "metadata": {},
     "output_type": "execute_result"
    }
   ],
   "source": [
    "rf = RandomForestRegressor(n_estimators=1000,random_state = 42)\n",
    "rf.fit(kdd_train_X,kdd_train_y)"
   ]
  },
  {
   "cell_type": "code",
   "execution_count": 114,
   "metadata": {},
   "outputs": [],
   "source": [
    "predictions2 = rf.predict(kdd_validate_X)"
   ]
  },
  {
   "cell_type": "markdown",
   "metadata": {},
   "source": [
    "### Analysis of Model 2"
   ]
  },
  {
   "cell_type": "code",
   "execution_count": 115,
   "metadata": {},
   "outputs": [],
   "source": [
    "for i in range(2465):\n",
    "    if predictions2[i] < 0.5:\n",
    "        predictions2[i] = 0\n",
    "    else:\n",
    "        predictions2[i] = 1"
   ]
  },
  {
   "cell_type": "code",
   "execution_count": 116,
   "metadata": {
    "scrolled": true
   },
   "outputs": [],
   "source": [
    "cm2 = metrics.confusion_matrix(kdd_validate_y,predictions2)"
   ]
  },
  {
   "cell_type": "code",
   "execution_count": 117,
   "metadata": {},
   "outputs": [],
   "source": [
    "TP2 = cm2[1,1]\n",
    "FP2 = cm2[0,1]\n",
    "FN2 = cm2[1,0]\n",
    "TN2 = cm2[0,0]\n",
    "precision2 = TP2/(TP2+FP2)\n",
    "accuracy2 = (TP2+TN2)/(TP2+TN2+FN2+FP2)\n",
    "recall2 = TP2/(TP2+FN2)"
   ]
  },
  {
   "cell_type": "code",
   "execution_count": 118,
   "metadata": {},
   "outputs": [
    {
     "name": "stdout",
     "output_type": "stream",
     "text": [
      "Model 2 Accuracy: 0.55\n",
      "Model 2 Precision: 0.54\n",
      "Model 2 Recall: 0.55\n"
     ]
    }
   ],
   "source": [
    "print('Model 2 Accuracy: {0:0.2f}'.format(accuracy2))\n",
    "print('Model 2 Precision: {0:0.2f}'.format(precision2))\n",
    "print('Model 2 Recall: {0:0.2f}'.format(recall2))"
   ]
  },
  {
   "cell_type": "code",
   "execution_count": 32,
   "metadata": {
    "scrolled": true
   },
   "outputs": [
    {
     "data": {
      "image/png": "[encoded data removed]",
      "text/plain": [
       "<Figure size 360x360 with 2 Axes>"
      ]
     },
     "metadata": {},
     "output_type": "display_data"
    }
   ],
   "source": [
    "plt.figure(figsize=(5,5))\n",
    "sns.heatmap(cm2, annot=True, fmt=\".0f\", linewidths=.5, square = True, cmap = 'YlOrBr')\n",
    "plt.ylabel('Actual')\n",
    "plt.xlabel('Predicted')\n",
    "plt.title('Random Forest Confusion Matrix')\n",
    "sns.set(font_scale=1.2)"
   ]
  },
  {
   "cell_type": "markdown",
   "metadata": {},
   "source": [
    "### Building Model 3 - Neural Network"
   ]
  },
  {
   "cell_type": "code",
   "execution_count": 33,
   "metadata": {},
   "outputs": [],
   "source": [
    "from sklearn.preprocessing import StandardScaler\n",
    "from sklearn.neural_network import MLPClassifier\n",
    "scaler = StandardScaler()"
   ]
  },
  {
   "cell_type": "code",
   "execution_count": 34,
   "metadata": {},
   "outputs": [
    {
     "data": {
      "text/plain": [
       "StandardScaler()"
      ]
     },
     "execution_count": 34,
     "metadata": {},
     "output_type": "execute_result"
    }
   ],
   "source": [
    "NN_train_X = kdd_train_X\n",
    "NN_validate_X = kdd_validate_X\n",
    "scaler.fit(NN_train_X)"
   ]
  },
  {
   "cell_type": "code",
   "execution_count": 35,
   "metadata": {},
   "outputs": [],
   "source": [
    "NN_train_X = scaler.transform(NN_train_X)\n",
    "NN_validate_X = scaler.transform(NN_validate_X)"
   ]
  },
  {
   "cell_type": "code",
   "execution_count": 122,
   "metadata": {},
   "outputs": [],
   "source": [
    "?MLPClassifier"
   ]
  },
  {
   "cell_type": "code",
   "execution_count": 129,
   "metadata": {},
   "outputs": [],
   "source": [
    "mlp = MLPClassifier(hidden_layer_sizes=(11,11,11),max_iter=1000,random_state=42)"
   ]
  },
  {
   "cell_type": "code",
   "execution_count": 130,
   "metadata": {},
   "outputs": [
    {
     "data": {
      "text/plain": [
       "MLPClassifier(hidden_layer_sizes=(11, 11, 11), max_iter=1000, random_state=42)"
      ]
     },
     "execution_count": 130,
     "metadata": {},
     "output_type": "execute_result"
    }
   ],
   "source": [
    "mlp.fit(NN_train_X,kdd_train_y)"
   ]
  },
  {
   "cell_type": "code",
   "execution_count": 131,
   "metadata": {},
   "outputs": [],
   "source": [
    "predictions3 = mlp.predict(NN_validate_X)"
   ]
  },
  {
   "cell_type": "markdown",
   "metadata": {},
   "source": [
    "### Analysis of Model 3"
   ]
  },
  {
   "cell_type": "code",
   "execution_count": 132,
   "metadata": {},
   "outputs": [],
   "source": [
    "cm3 = metrics.confusion_matrix(kdd_validate_y,predictions3)"
   ]
  },
  {
   "cell_type": "code",
   "execution_count": 133,
   "metadata": {},
   "outputs": [],
   "source": [
    "TP3 = cm3[1,1]\n",
    "FP3 = cm3[0,1]\n",
    "FN3 = cm3[1,0]\n",
    "TN3 = cm3[0,0]\n",
    "precision3 = TP3/(TP3+FP3)\n",
    "accuracy3 = (TP3+TN3)/(TP3+TN3+FN3+FP3)\n",
    "recall3 = TP3/(TP3+FN3)"
   ]
  },
  {
   "cell_type": "code",
   "execution_count": 134,
   "metadata": {},
   "outputs": [
    {
     "name": "stdout",
     "output_type": "stream",
     "text": [
      "Model 3 Accuracy: 0.56\n",
      "Model 3 Precision: 0.56\n",
      "Model 3 Recall: 0.53\n"
     ]
    }
   ],
   "source": [
    "print('Model 3 Accuracy: {0:0.2f}'.format(accuracy3))\n",
    "print('Model 3 Precision: {0:0.2f}'.format(precision3))\n",
    "print('Model 3 Recall: {0:0.2f}'.format(recall3))"
   ]
  },
  {
   "cell_type": "code",
   "execution_count": 135,
   "metadata": {
    "scrolled": true
   },
   "outputs": [
    {
     "data": {
      "image/png": "[encoded data removed]",
      "text/plain": [
       "<Figure size 360x360 with 2 Axes>"
      ]
     },
     "metadata": {},
     "output_type": "display_data"
    }
   ],
   "source": [
    "plt.figure(figsize=(5,5))\n",
    "sns.heatmap(cm3, annot=True, fmt=\".0f\", linewidths=.5, square = True, cmap = 'YlOrBr')\n",
    "plt.ylabel('Actual')\n",
    "plt.xlabel('Predicted')\n",
    "plt.title('Neural Network Confusion Matrix')\n",
    "sns.set(font_scale=1.2)"
   ]
  },
  {
   "cell_type": "code",
   "execution_count": 121,
   "metadata": {},
   "outputs": [
    {
     "data": {
      "text/html": [
       "<div>\n",
       "<style scoped>\n",
       "    .dataframe tbody tr th:only-of-type {\n",
       "        vertical-align: middle;\n",
       "    }\n",
       "\n",
       "    .dataframe tbody tr th {\n",
       "        vertical-align: top;\n",
       "    }\n",
       "\n",
       "    .dataframe thead th {\n",
       "        text-align: right;\n",
       "    }\n",
       "</style>\n",
       "<table border=\"1\" class=\"dataframe\">\n",
       "  <thead>\n",
       "    <tr style=\"text-align: right;\">\n",
       "      <th></th>\n",
       "      <th>Model</th>\n",
       "      <th>Accuracy</th>\n",
       "      <th>Precision</th>\n",
       "      <th>Recall</th>\n",
       "    </tr>\n",
       "  </thead>\n",
       "  <tbody>\n",
       "    <tr>\n",
       "      <th>0</th>\n",
       "      <td>Logistic Regression</td>\n",
       "      <td>0.574848</td>\n",
       "      <td>0.564529</td>\n",
       "      <td>0.588770</td>\n",
       "    </tr>\n",
       "    <tr>\n",
       "      <th>1</th>\n",
       "      <td>Random Forest</td>\n",
       "      <td>0.551724</td>\n",
       "      <td>0.543301</td>\n",
       "      <td>0.549133</td>\n",
       "    </tr>\n",
       "    <tr>\n",
       "      <th>2</th>\n",
       "      <td>Neural Network</td>\n",
       "      <td>0.560649</td>\n",
       "      <td>0.555944</td>\n",
       "      <td>0.525186</td>\n",
       "    </tr>\n",
       "  </tbody>\n",
       "</table>\n",
       "</div>"
      ],
      "text/plain": [
       "                 Model  Accuracy  Precision    Recall\n",
       "0  Logistic Regression  0.574848   0.564529  0.588770\n",
       "1        Random Forest  0.551724   0.543301  0.549133\n",
       "2       Neural Network  0.560649   0.555944  0.525186"
      ]
     },
     "execution_count": 121,
     "metadata": {},
     "output_type": "execute_result"
    }
   ],
   "source": [
    "task1_dat = {'Model':['Logistic Regression','Random Forest','Neural Network'],\n",
    "             'Accuracy':[accuracy,accuracy2,accuracy3],\n",
    "             'Precision':[precision,precision2,precision3],\n",
    "             'Recall':[recall,recall2,recall3]}\n",
    "\n",
    "task1_df = pd.DataFrame(task1_dat,columns=['Model','Accuracy','Precision','Recall'])\n",
    "\n",
    "task1_df"
   ]
  },
  {
   "cell_type": "markdown",
   "metadata": {},
   "source": [
    "## Task 2 - Linear Regression"
   ]
  },
  {
   "cell_type": "markdown",
   "metadata": {},
   "source": [
    "### Importing Data Set"
   ]
  },
  {
   "cell_type": "code",
   "execution_count": 49,
   "metadata": {},
   "outputs": [],
   "source": [
    "path = 'kdd_linear_test.csv'\n",
    "kdd_linear = pd.read_csv(path)"
   ]
  },
  {
   "cell_type": "code",
   "execution_count": 50,
   "metadata": {},
   "outputs": [
    {
     "name": "stdout",
     "output_type": "stream",
     "text": [
      "Training Class = <class 'pandas.core.frame.DataFrame'>\n",
      "Training Shape = (4843, 42)\n",
      "Column Names = ['TARGET_B', 'TARGET_D', 'GiftCnt36', 'GiftCntAll', 'GiftCntCard36', 'GiftCntCardAll', 'GiftAvgLast', 'GiftAvg36', 'GiftAvgAll', 'GiftAvgCard36', 'GiftTimeLast', 'GiftTimeFirst', 'PromCnt12', 'PromCnt36', 'PromCntAll', 'PromCntCard12', 'PromCntCard36', 'PromCntCardAll', 'StatusCat96NK', 'StatusCatStarAll', 'DemAge', 'DemGender', 'DemHomeOwner', 'DemMedHomeValue', 'DemPctVeterans', 'DemMedIncome', 'GiftCntAll_M', 'GiftCntCardAll_M', 'GiftAvgCard36_M', 'PromCntCard12_M', 'DemAge_M', 'DemMedHomeValue_M', 'DemPctVeterans_M', 'DemMedIncome_M', 'StatusCat96NK_A', 'StatusCat96NK_E', 'StatusCat96NK_F', 'StatusCat96NK_L', 'StatusCat96NK_m', 'DemHomeOwner_H', 'DemGender_F', 'DemGender_U']\n"
     ]
    }
   ],
   "source": [
    "print('Training Class =',type(kdd_linear))\n",
    "print('Training Shape =',kdd_linear.shape)\n",
    "print('Column Names =',list(kdd_linear.columns))"
   ]
  },
  {
   "cell_type": "markdown",
   "metadata": {},
   "source": [
    "### Dropping Unused Columns"
   ]
  },
  {
   "cell_type": "code",
   "execution_count": 51,
   "metadata": {
    "scrolled": true
   },
   "outputs": [
    {
     "data": {
      "text/html": [
       "<div>\n",
       "<style scoped>\n",
       "    .dataframe tbody tr th:only-of-type {\n",
       "        vertical-align: middle;\n",
       "    }\n",
       "\n",
       "    .dataframe tbody tr th {\n",
       "        vertical-align: top;\n",
       "    }\n",
       "\n",
       "    .dataframe thead th {\n",
       "        text-align: right;\n",
       "    }\n",
       "</style>\n",
       "<table border=\"1\" class=\"dataframe\">\n",
       "  <thead>\n",
       "    <tr style=\"text-align: right;\">\n",
       "      <th></th>\n",
       "      <th>GiftAvgLast</th>\n",
       "      <th>GiftAvg36</th>\n",
       "      <th>GiftAvgAll</th>\n",
       "      <th>PromCntAll</th>\n",
       "      <th>PromCntCardAll</th>\n",
       "      <th>DemPctVeterans</th>\n",
       "      <th>DemMedIncome</th>\n",
       "      <th>GiftCntAll_M</th>\n",
       "      <th>GiftCntCardAll_M</th>\n",
       "      <th>DemMedIncome_M</th>\n",
       "      <th>StatusCat96NK_F</th>\n",
       "      <th>StatusCat96NK_m</th>\n",
       "      <th>DemHomeOwner_H</th>\n",
       "      <th>DemGender_F</th>\n",
       "    </tr>\n",
       "  </thead>\n",
       "  <tbody>\n",
       "    <tr>\n",
       "      <th>0</th>\n",
       "      <td>35.0</td>\n",
       "      <td>35.0</td>\n",
       "      <td>28.33</td>\n",
       "      <td>4.025352</td>\n",
       "      <td>3.091042</td>\n",
       "      <td>300.000000</td>\n",
       "      <td>32.000000</td>\n",
       "      <td>0</td>\n",
       "      <td>0</td>\n",
       "      <td>0</td>\n",
       "      <td>0</td>\n",
       "      <td>0</td>\n",
       "      <td>0</td>\n",
       "      <td>1</td>\n",
       "    </tr>\n",
       "    <tr>\n",
       "      <th>1</th>\n",
       "      <td>20.0</td>\n",
       "      <td>12.5</td>\n",
       "      <td>12.50</td>\n",
       "      <td>2.944439</td>\n",
       "      <td>2.197225</td>\n",
       "      <td>445.434692</td>\n",
       "      <td>31.777503</td>\n",
       "      <td>0</td>\n",
       "      <td>0</td>\n",
       "      <td>1</td>\n",
       "      <td>0</td>\n",
       "      <td>0</td>\n",
       "      <td>1</td>\n",
       "      <td>1</td>\n",
       "    </tr>\n",
       "    <tr>\n",
       "      <th>2</th>\n",
       "      <td>17.0</td>\n",
       "      <td>17.0</td>\n",
       "      <td>11.43</td>\n",
       "      <td>4.060443</td>\n",
       "      <td>3.367296</td>\n",
       "      <td>500.000000</td>\n",
       "      <td>44.000000</td>\n",
       "      <td>0</td>\n",
       "      <td>0</td>\n",
       "      <td>0</td>\n",
       "      <td>0</td>\n",
       "      <td>0</td>\n",
       "      <td>0</td>\n",
       "      <td>1</td>\n",
       "    </tr>\n",
       "    <tr>\n",
       "      <th>3</th>\n",
       "      <td>5.0</td>\n",
       "      <td>4.8</td>\n",
       "      <td>4.29</td>\n",
       "      <td>3.465736</td>\n",
       "      <td>2.564949</td>\n",
       "      <td>0.000000</td>\n",
       "      <td>37.000000</td>\n",
       "      <td>0</td>\n",
       "      <td>0</td>\n",
       "      <td>0</td>\n",
       "      <td>0</td>\n",
       "      <td>0</td>\n",
       "      <td>0</td>\n",
       "      <td>1</td>\n",
       "    </tr>\n",
       "    <tr>\n",
       "      <th>4</th>\n",
       "      <td>12.0</td>\n",
       "      <td>11.0</td>\n",
       "      <td>6.08</td>\n",
       "      <td>4.234107</td>\n",
       "      <td>3.332205</td>\n",
       "      <td>900.000000</td>\n",
       "      <td>35.000000</td>\n",
       "      <td>0</td>\n",
       "      <td>0</td>\n",
       "      <td>0</td>\n",
       "      <td>0</td>\n",
       "      <td>0</td>\n",
       "      <td>1</td>\n",
       "      <td>1</td>\n",
       "    </tr>\n",
       "  </tbody>\n",
       "</table>\n",
       "</div>"
      ],
      "text/plain": [
       "   GiftAvgLast  GiftAvg36  GiftAvgAll  PromCntAll  PromCntCardAll  \\\n",
       "0         35.0       35.0       28.33    4.025352        3.091042   \n",
       "1         20.0       12.5       12.50    2.944439        2.197225   \n",
       "2         17.0       17.0       11.43    4.060443        3.367296   \n",
       "3          5.0        4.8        4.29    3.465736        2.564949   \n",
       "4         12.0       11.0        6.08    4.234107        3.332205   \n",
       "\n",
       "   DemPctVeterans  DemMedIncome  GiftCntAll_M  GiftCntCardAll_M  \\\n",
       "0      300.000000     32.000000             0                 0   \n",
       "1      445.434692     31.777503             0                 0   \n",
       "2      500.000000     44.000000             0                 0   \n",
       "3        0.000000     37.000000             0                 0   \n",
       "4      900.000000     35.000000             0                 0   \n",
       "\n",
       "   DemMedIncome_M  StatusCat96NK_F  StatusCat96NK_m  DemHomeOwner_H  \\\n",
       "0               0                0                0               0   \n",
       "1               1                0                0               1   \n",
       "2               0                0                0               0   \n",
       "3               0                0                0               0   \n",
       "4               0                0                0               1   \n",
       "\n",
       "   DemGender_F  \n",
       "0            1  \n",
       "1            1  \n",
       "2            1  \n",
       "3            1  \n",
       "4            1  "
      ]
     },
     "execution_count": 51,
     "metadata": {},
     "output_type": "execute_result"
    }
   ],
   "source": [
    "kdd_linear_X = kdd_linear.iloc[:,[6,7,8,14,17,24,25,26,27,33,36,38,39,40]]\n",
    "kdd_linear_y = kdd_linear.iloc[:,1]\n",
    "kdd_linear_X.head()"
   ]
  },
  {
   "cell_type": "markdown",
   "metadata": {},
   "source": [
    "## Model 1 - Linear Regression"
   ]
  },
  {
   "cell_type": "code",
   "execution_count": 1,
   "metadata": {},
   "outputs": [],
   "source": [
    "from sklearn import datasets, linear_model\n",
    "from sklearn.metrics import mean_squared_error\n",
    "from sklearn.model_selection import cross_val_score\n",
    "from sklearn.neural_network import MLPRegressor"
   ]
  },
  {
   "cell_type": "code",
   "execution_count": 2,
   "metadata": {},
   "outputs": [],
   "source": [
    "?cross_val_score"
   ]
  },
  {
   "cell_type": "code",
   "execution_count": 53,
   "metadata": {},
   "outputs": [],
   "source": [
    "linregr = linear_model.LinearRegression()"
   ]
  },
  {
   "cell_type": "code",
   "execution_count": 54,
   "metadata": {},
   "outputs": [],
   "source": [
    "scores = cross_val_score(linregr,kdd_linear_X,kdd_linear_y,cv=5, scoring=\"neg_root_mean_squared_error\")"
   ]
  },
  {
   "cell_type": "code",
   "execution_count": 55,
   "metadata": {
    "scrolled": true
   },
   "outputs": [
    {
     "name": "stdout",
     "output_type": "stream",
     "text": [
      "Model 1 RMSE: 8.53\n"
     ]
    }
   ],
   "source": [
    "print('Model 1 RMSE: {0:0.2f}'.format(np.mean(scores)*-1))"
   ]
  },
  {
   "cell_type": "markdown",
   "metadata": {},
   "source": [
    "## Model 2 - Neural Network"
   ]
  },
  {
   "cell_type": "code",
   "execution_count": 56,
   "metadata": {},
   "outputs": [],
   "source": [
    "mlp2 = MLPRegressor(hidden_layer_sizes=(11,11,11),max_iter=1000,random_state=42)"
   ]
  },
  {
   "cell_type": "code",
   "execution_count": 57,
   "metadata": {},
   "outputs": [],
   "source": [
    "scores2 = cross_val_score(mlp2,kdd_linear_X,kdd_linear_y,cv=5, scoring=\"neg_root_mean_squared_error\")"
   ]
  },
  {
   "cell_type": "code",
   "execution_count": 58,
   "metadata": {
    "scrolled": false
   },
   "outputs": [
    {
     "name": "stdout",
     "output_type": "stream",
     "text": [
      "Model 2 RMSE: 8.60\n"
     ]
    }
   ],
   "source": [
    "print('Model 2 RMSE: {0:0.2f}'.format(np.mean(scores2)*-1))"
   ]
  },
  {
   "cell_type": "markdown",
   "metadata": {},
   "source": [
    "## Model 3 - SVR"
   ]
  },
  {
   "cell_type": "code",
   "execution_count": 59,
   "metadata": {},
   "outputs": [],
   "source": [
    "from sklearn.svm import SVR\n",
    "from sklearn.pipeline import make_pipeline\n",
    "from sklearn.preprocessing import StandardScaler"
   ]
  },
  {
   "cell_type": "code",
   "execution_count": 60,
   "metadata": {},
   "outputs": [],
   "source": [
    "svmregr = make_pipeline(StandardScaler(), SVR(kernel='linear', C=100, gamma='auto'))"
   ]
  },
  {
   "cell_type": "code",
   "execution_count": 142,
   "metadata": {},
   "outputs": [],
   "source": [
    "scores3 = cross_val_score(svmregr,kdd_linear_X,kdd_linear_y,cv=5, scoring=\"neg_root_mean_squared_error\")"
   ]
  },
  {
   "cell_type": "code",
   "execution_count": 143,
   "metadata": {
    "scrolled": false
   },
   "outputs": [
    {
     "name": "stdout",
     "output_type": "stream",
     "text": [
      "Model 3 RMSE: 8.61\n"
     ]
    }
   ],
   "source": [
    "print('Model 3 RMSE: {0:0.2f}'.format(np.mean(scores3)*-1))"
   ]
  },
  {
   "cell_type": "code",
   "execution_count": 139,
   "metadata": {},
   "outputs": [],
   "source": [
    "scores3=np.mean(scores3)*-1"
   ]
  },
  {
   "cell_type": "code",
   "execution_count": 140,
   "metadata": {},
   "outputs": [
    {
     "data": {
      "text/plain": [
       "8.607905983112742"
      ]
     },
     "execution_count": 140,
     "metadata": {},
     "output_type": "execute_result"
    }
   ],
   "source": [
    "scores3"
   ]
  },
  {
   "cell_type": "code",
   "execution_count": 144,
   "metadata": {},
   "outputs": [
    {
     "data": {
      "text/html": [
       "<div>\n",
       "<style scoped>\n",
       "    .dataframe tbody tr th:only-of-type {\n",
       "        vertical-align: middle;\n",
       "    }\n",
       "\n",
       "    .dataframe tbody tr th {\n",
       "        vertical-align: top;\n",
       "    }\n",
       "\n",
       "    .dataframe thead th {\n",
       "        text-align: right;\n",
       "    }\n",
       "</style>\n",
       "<table border=\"1\" class=\"dataframe\">\n",
       "  <thead>\n",
       "    <tr style=\"text-align: right;\">\n",
       "      <th></th>\n",
       "      <th>Model</th>\n",
       "      <th>RMSE</th>\n",
       "    </tr>\n",
       "  </thead>\n",
       "  <tbody>\n",
       "    <tr>\n",
       "      <th>0</th>\n",
       "      <td>Linear Regression</td>\n",
       "      <td>8.527106</td>\n",
       "    </tr>\n",
       "    <tr>\n",
       "      <th>1</th>\n",
       "      <td>SVR</td>\n",
       "      <td>8.602483</td>\n",
       "    </tr>\n",
       "    <tr>\n",
       "      <th>2</th>\n",
       "      <td>Neural Network</td>\n",
       "      <td>8.607906</td>\n",
       "    </tr>\n",
       "  </tbody>\n",
       "</table>\n",
       "</div>"
      ],
      "text/plain": [
       "               Model      RMSE\n",
       "0  Linear Regression  8.527106\n",
       "1                SVR  8.602483\n",
       "2     Neural Network  8.607906"
      ]
     },
     "execution_count": 144,
     "metadata": {},
     "output_type": "execute_result"
    }
   ],
   "source": [
    "task2_dat = {'Model':['Linear Regression','SVR','Neural Network'],\n",
    "             'RMSE':[np.mean(scores)*-1,np.mean(scores2)*-1,np.mean(scores3)*-1]}\n",
    "\n",
    "task2_df = pd.DataFrame(task2_dat,columns=['Model','RMSE'])\n",
    "\n",
    "task2_df"
   ]
  }
 ],
 "metadata": {
  "kernelspec": {
   "display_name": "Python 3",
   "language": "python",
   "name": "python3"
  },
  "language_info": {
   "codemirror_mode": {
    "name": "ipython",
    "version": 3
   },
   "file_extension": ".py",
   "mimetype": "text/x-python",
   "name": "python",
   "nbconvert_exporter": "python",
   "pygments_lexer": "ipython3",
   "version": "3.8.5"
  },
  "latex_envs": {
   "LaTeX_envs_menu_present": true,
   "autoclose": false,
   "autocomplete": true,
   "bibliofile": "biblio.bib",
   "cite_by": "apalike",
   "current_citInitial": 1,
   "eqLabelWithNumbers": true,
   "eqNumInitial": 1,
   "hotkeys": {
    "equation": "Ctrl-E",
    "itemize": "Ctrl-I"
   },
   "labels_anchors": false,
   "latex_user_defs": false,
   "report_style_numbering": false,
   "user_envs_cfg": false
  },
  "varInspector": {
   "cols": {
    "lenName": 16,
    "lenType": 16,
    "lenVar": 40
   },
   "kernels_config": {
    "python": {
     "delete_cmd_postfix": "",
     "delete_cmd_prefix": "del ",
     "library": "var_list.py",
     "varRefreshCmd": "print(var_dic_list())"
    },
    "r": {
     "delete_cmd_postfix": ") ",
     "delete_cmd_prefix": "rm(",
     "library": "var_list.r",
     "varRefreshCmd": "cat(var_dic_list()) "
    }
   },
   "oldHeight": 488.391,
   "position": {
    "height": "40px",
    "left": "1557px",
    "right": "20px",
    "top": "120px",
    "width": "343px"
   },
   "types_to_exclude": [
    "module",
    "function",
    "builtin_function_or_method",
    "instance",
    "_Feature"
   ],
   "varInspector_section_display": "none",
   "window_display": true
  }
 },
 "nbformat": 4,
 "nbformat_minor": 4
}
