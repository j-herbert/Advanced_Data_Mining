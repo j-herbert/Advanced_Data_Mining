{
 "cells": [
  {
   "cell_type": "markdown",
   "metadata": {},
   "source": [
    "# INFS 770 - Advanced Data Mining Application\n",
    "## Assignment 3\n",
    "### John Herbert"
   ]
  },
  {
   "cell_type": "markdown",
   "metadata": {},
   "source": [
    "## T0: Import Libraries"
   ]
  },
  {
   "cell_type": "code",
   "execution_count": 1,
   "metadata": {},
   "outputs": [],
   "source": [
    "import os\n",
    "import re\n",
    "\n",
    "import nltk\n",
    "from nltk import word_tokenize \n",
    "from nltk.stem import WordNetLemmatizer\n",
    "\n",
    "import gensim\n",
    "import pandas as pd\n",
    "import numpy as np\n",
    "from gensim.models import LdaModel, LsiModel\n",
    "from sklearn.feature_extraction.text import TfidfVectorizer\n",
    "\n",
    "from gensim import corpora\n",
    "from gensim.models import CoherenceModel\n",
    "from statistics import mean\n",
    "\n",
    "from scipy.linalg import svd\n",
    "from sklearn.decomposition import TruncatedSVD"
   ]
  },
  {
   "cell_type": "markdown",
   "metadata": {},
   "source": [
    "## T1: Import Data"
   ]
  },
  {
   "cell_type": "code",
   "execution_count": 2,
   "metadata": {
    "collapsed": true,
    "jupyter": {
     "outputs_hidden": true
    }
   },
   "outputs": [
    {
     "name": "stdout",
     "output_type": "stream",
     "text": [
      "['White House officials are preparing to present President Biden with a roughly $3 trillion infrastructure and jobs package that includes high profile domestic policy priorities such as free community college and universal prekindergarten, according to three people familiar with internal discussions.\\n\\nAfter completing the $1.9 trillion coronavirus relief package this month, Biden administration officials are piecing together the next major legislative priority. While no final announcement has been made, the White House is expected to push a multitrillion jobs and infrastructure plan as the centerpiece of the president’s “Build Back Better” agenda.\\n\\nThat effort is expected to be broken into two parts — one focused on infrastructure, and the other focused on other domestic priorities, such as expanding the newly expanded child tax credit for several years. The people, who spoke on the condition of anonymity to describe private conversations, stressed planning was preliminary and subject to change. Some aides stressed the package’s final price tag remains unclear.\\n\\nAlthough still in the works, the sprawling legislative package follows weeks of uncertainty about Biden’s second big legislative effort and confusion among congressional lawmakers about the administration’s top priority.\\n\\nThe infrastructure and jobs bill is poised further define Biden’s presidency. The president has faced intense pressure, including from some Democrats, to scale back his domestic policy ambitions and work with congressional Republicans on more incremental legislation following his $1.9 trillion relief plan, which every Republican voted against.\\n\\nDoing so, however, would require Biden to jettison many of his most consequential 2020 presidential campaign promises, while also frustrating much of his base and Democratic party leadership. Introducing a new $3 trillion package, which is expected to include tax hikes to offset spending, is sure to frustrate Republicans, setting up another acrimonious legislative fight. But it gives the president a chance to cement a domestic policy agenda beyond the emergency response to the pandemic.\\n\\n“The country has not had a real infrastructure bill since Dwight Eisenhower set up the highway system. This could do more for American manufacturing and blue collar jobs than anything else,” said former Gov. Ed Rendell (D-Pa.), a proponent of infrastructure spending. “It’s crucial not just for Biden’s legacy but for the legacy of the American government in the next decade. It’s a seminal moment for the country.\"\\n\\nCrucial decisions still have to be made about how the administration seeks to advance the measure. Congressional Republicans are unlikely to support trillions more in additional spending, or the tax hikes that the White House is eyeing to fund these initiatives. Also, it’s unclear what the appetite could be, even among congressional Democrats, to use reconciliation -- the budgetary procedure Democrats used to pass covid relief with just 51 votes in the Senate.\\n\\nWhite House press secretary Jen Psaki said in a statement that the administration had not decided on its next step. “President Biden and his team are considering a range of potential options for how to invest in working families and reform our tax code so it rewards work, not wealth,\" Psaki said. \"Those conversations are ongoing, so any speculation about future economic proposals is premature and not a reflection of the White House’s thinking.”\\n\\nCongressional Republicans have talked about supporting infrastructure spending but they’ve largely rejected Democratic proposals for doing so, particularly those that include investments in clean energy to combat climate change. Senate Minority Leader Mitch McConnell (R-Ky.) on Monday warned on the Senate floor against a “so-called infrastructure proposal that may actually be a trojan horse for massive tax hikes and other job-killing left-wing policies.”\\n\\nBiden’s proposal is expected to center around infrastructure spending, with hundreds of billions of dollars to repair the nation’s roads, bridges, waterways and rails. It also includes funding for retrofitting buildings, safety improvements, schools infrastructure, and low-income and tribal groups, as well as $100 billion for schools and education infrastructure.\\n\\nThe infrastructure component is expected to include $400 billion in spending to combat climate change, including $60 billion for infrastructure related to green transit and $46 billion for climate-related research and development. The plan also would aim to make electric-vehicle charging stations available across the country. The measure would also include $200 billion for housing infrastructure, including $100 billion to expand the supply of housing for low-income Americans.\\n\\nThe second component of the effort would include many of Biden’s other domestic priorities. Those include universal prekindergarten and free community college tuition. The package would also dramatically expand spending on child care. The measure would also extend for several years the expansion of the Child Tax Credit recently signed into law for just one year as part of the stimulus plan.\\n\\nBiden has previously touted these initiatives as necessary parts of the “caregiving economy.”\\n\\nThe new legislation would also include extending subsidies for the Affordable Care Act, as well as free and reduced tuition at Historically Black Colleges and Universities.\\n\\nBiden is also expected to be presented with a menu of tax options by Treasury officials to fund the plan. Biden campaigned on raising the corporate tax rate from 21 percent to 28 percent, as well as increasing taxes on wealthy investors. It was not immediately clear which of his tax plans would be included in the final legislation.', 'White House advisers are expected to present a two-part, $3 trillion jobs and infrastructure proposal to President Joe Biden as soon as this week, according to two people familiar with the plan.\\n\\nThe proposal, which Biden\\'s top advisers have been deliberating over for weeks, would be segmented into two separate parts -- one focused on infrastructure and clean energy, and a second focused on what\\'s being termed the \"care economy\" with a focus zeroed in on key domestic economic issues.\\nIn full, it would mark a sweeping move toward enacting the key elements of the \"jobs\" agenda that Biden laid out in large part during his campaign for president, with a suite of potential tax increases on corporations and the wealthy as options to finance any longer-term spending in the final proposal.\\nThe proposal was first reported by The New York Times.\\nWhite House officials stressed that no final decisions about the final path forward have been made at this point. Biden still has to review the proposals and plans to consult heavily with Senate Democratic Leader Chuck Schumer and House Speaker Nancy Pelosi about the scale and legislative sequencing of the next key pillar of his agenda.\\n\"President Biden and his team are considering a range of potential options for how to invest in working families and reform our tax code so it rewards work, not wealth,\" White House press secretary Jen Psaki said in a statement. \"Those conversations are ongoing, so any speculation about future economic proposals is premature and not a reflection of the White House\\'s thinking.\"\\nBut the move toward presenting proposals directly to Biden represents a crucial next step as the White House moves to settle on the scale of their next major legislative agenda item.\\nThe President pledged to divide his major economic agenda items into two parts -- a \"rescue\" plan, which was signed into law this month, and a \"recovery\" plan, which he intended to use for a sweeping jobs package with a heavy emphasis on infrastructure.\\nBiden and his top advisers kept the focus on the $1.9 trillion Covid-19 rescue plan, however, slowing down the process on the next stage of the agenda, as they sought to secure its passage and then spend several weeks promoting its key elements to the American public.\\nTo this point, recommendations for the next phase haven\\'t reached Biden\\'s desk yet, officials say, though they are likely to over the course of the next week, as the White House moves toward Biden\\'s joint address to Congress at some point, likely in April.\\nLater Monday, Psaki declined to confirm the $3 trillion number but confirmed Biden will meet with top economic aides this week, adding that no final decisions have been made regarding the size or scope of a proposal.\\n\"He\\'s being briefed this week on potential plans,\" Psaki said. \"We\\'ll have to see what his reaction is.\"\\nThe infrastructure proposal would focus heavily on money for roads, bridges and rails, and would include hundreds of billions in spending for climate-related measures, as well as climate-related research and development. It also would include $100 billion for education infrastructure.\\nThe domestic economy piece of the plan would include key Biden campaign priorities such as universal pre-K, significant spending on child care, care-giving and proposals designed to try and address portions of the workforce hit hardest by the pandemic economy.\\nBiden plans to pursue bipartisan support, according to his advisers. He\\'s already held multiple bipartisan Oval Office meetings on the issue. During a meeting with labor leaders in the Oval office in February, Biden repeatedly stressed that he thought there was a path for bipartisanship on the issue, according to an attendee.\\nBut officials are also planning for congressional Democrats to move concurrently with a budget procedure that would allow any package to pass with a simple majority in the US Senate.\\nWhile infrastructure has long been an area of topline bipartisan agreement, Democrats on both sides of Pennsylvania Avenue have made clear tax increases on the wealthy and corporations are likely pathways to finance the long-term spending from the proposal.\\nWhile Biden has said what he planned to do policy-wise during the campaign -- and any tax increases are largely going to be pulled from the menu of options Biden laid out before he came into office, officials say, the possibility has already drawn the ire of top Republicans.\\n\"We\\'re hearing the next few months might bring a so-called infrastructure proposal that might actually be a Trojan horse for massive tax hikes and other job-killing, left-wing policies,\" Senate Minority Leader Mitch McConnell, R-Kentucky, said Monday\\nIt\\'s something Democrats are keenly aware of -- and has fueled debates on both Capitol Hill and inside the West Wing about how to structure the legislative push. In the coming weeks Biden is expected to weigh in with his position, while also staying in close touch with Schumer and Pelosi, officials say.\\nWhile the planning remains fluid, officials are tentatively eyeing Biden\\'s likely April joint address to Congress as a moment where the key thematic elements of the package are made clear.', 'The White House said on Monday that reports that President Joe Biden will consider spending $3 trillion for infrastructure and other priorities are premature and do not reflect administration thinking.\\n\\nThe New York Times reported that Biden advisers were preparing to recommend he spend as much as $3 trillion on boosting the economy, reducing carbon emissions and narrowing economic inequality, beginning with a giant infrastructure plan.\\n\\nThe Washington Post and CNN reported that a $3 trillion effort was expected to be broken into two parts, one focused on infrastructure, and the other devoted to other domestic priorities, such as universal prekindergarten, national childcare and free community college tuition.\\nWhite House spokeswoman Jen Psaki, speaking to reporters, declined to confirm the reports, but said Biden would be briefed this week by his economic advisers on \"the size and scope\" of the proposals.\\n\\nIn a separate statement, Psaki said Biden and his team were considering \"a range of potential options for how to invest in working families and reform our tax code so it rewards work, not wealth.\"\\n\\n\"Those conversations are ongoing, so any speculation about future economic proposals is premature and not a reflection of the White House\\'s thinking,\" the statement added.\\n\\nBiden has ambitious plans for new legislative action including infrastructure and tackling climate change. But many questions remain about how to structure and pay for it, and what Republicans in Congress might vote for.\\n\\nBiden used the Democrats\\' slender majority in the U.S. Senate to push through a $1.9 trillion pandemic relief bill earlier this month through a special process called reconciliation.\\n\\nDemocrats see infrastructure as one area where they might be able to attract support from Republicans because of the need to rebuild roads, bridges and airports across the country, but Republicans are already expressing skepticism.\\n\\n\"We’re hearing the next few months might bring a so-called \\'infrastructure\\' proposal that may actually be a Trojan horse for massive tax hikes and other job-killing left-wing policies,\"\\n\\nMinority Leader Mitch McConnell said on the Senate floor on Monday.\\n\\nCongress never voted on an infrastructure plan unveiled by the Trump administration in 2018 that proposed spending $200 billion over 10 years to spur $1.5 trillion in largely private-sector infrastructure spending.\\n\\nHouse Republicans voted last week to lift a ban on earmarks, or funding for local projects that can serve as legislative \"sweeteners,\" a potential boost to any Biden bill.\\n\\nThe Times said administration officials have considered financing the plan by reducing federal spending by as much as $700 billion over a decade, and raising the top marginal income tax rate to 39.6 percent from 37 percent.\\n\\nBiden has pledged not to raise taxes on individuals making less than $400,000 a year.', 'AstraZeneca\\'s Covid-19 vaccine showed 79% efficacy against symptomatic disease and 100% efficacy against severe disease and hospitalization in a new, US-based clinical trial, the company said Monday.\\n\\nThe findings from the new Phase 3 trial, which included more than 32,000 participants, may boost confidence in the vaccine, which was originally developed by the University of Oxford.\\nThe trial showed that the vaccine was well-tolerated and identified no safety concerns, the company said. An independent committee \"found no increased risk of thrombosis or events characterized by thrombosis among the 21,583 participants receiving at least one dose of the vaccine,\" according to AstraZeneca.\\nThe new data came from a Phase 3 clinical trial conducted in the US, Chile and Peru. AstraZeneca says it plans to submit the findings to a scientific journal for peer review.\\nRuud Dobber, president of AstraZeneca\\'s biopharmaceuticals business unit, said on CNBC Monday that the company plans to apply for emergency use authorization from the US Food and Drug Administration in the first half of April. If authorized, it would be the fourth Covid-19 vaccine available in the United States.\\nFor its part, Oxford said the findings add \"to previous trial data from the United Kingdom, Brazil and South Africa, as well as real-world impact data from the United Kingdom\" according to a press release from the university.\\nAs part of the trial, more than 32,000 adult volunteers recruited across all ages received either two doses of the vaccine or a placebo vaccine at a four-week interval.\\nAbout 79% of trial participants were White, 22% were Hispanic, 8% were Black, 4% were Native American and 4% were Asian.\\nAbout 20% of participants were 65 years and over and approximately 60% had conditions linked with higher risk of severe Covid-19, such as diabetes, severe obesity or heart disease.\\nIn patients 65 years and older, vaccine efficacy was 80%, AstraZeneca said -- echoing the overall trial results -- which is notable as some countries initially did not authorize the vaccine for use in this older age group, citing a lack of data from earlier trials.\\n\"It is clear this vaccine has very good efficacy (remember that 60% was, prior to any trials being started, regarded as a good target), and that this efficacy does not show a notable decline at older ages,\" Stephen Evans, a professor of pharmacoepidemiology at the London School of Hygiene & Tropical Medicine, said in a statement to the Science Media Centre in the UK.\\nEvans called previous assertions that the vaccine may be ineffective in older ages\"totally unjustified.\"\\n\\nThe Oxford-AstraZeneca vaccine became the subject of controversy earlier in the month when a number of European countries including Norway, France and Denmark decided to temporarily suspend its rollout due to reports of blood clotting in patients post inoculation.\\nAn emergency investigation by the European Medicines Agency (EMA) came to the conclusion last Thursday that the vaccine is \"safe and effective\" in preventing coronavirus and \"not associated with an increase in the overall risk of thromboembolic events, or blood clots.\"\\nLead Investigator for the vaccine and professor of Paediatric Infection and Immunity at Oxford University Andrew Pollard said the AstraZeneca data was \"consistent with the results from Oxford-led trials,\" adding that he expected a \"strong impact against COVID-19 across all ages and for people of all different backgrounds from widespread use of the vaccine.\"\\nDr. Peter Hotez, dean for the National School for Tropical Medicine at the Baylor College of Medicine, told CNN\\'s Alisyn Camerota the results were good news for the United States and the world.\\n\"I\\'m pretty confident now AstraZeneca will apply for, request emergency use authorization, so we\\'ll have that vaccine released to the American public,\" Hotez said. Covid-19 vaccines by Pfizer/BioNTech, Moderna and Johnson & Johnson have previously been authorized in the United States.\\nDespite recent pauses in the vaccine\\'s rollout, \"this is one of our workhorse vaccines that we\\'re expecting for Africa and Latin America,\" Hotez said. \"So this is good news also because it\\'s reaffirming for the vaccines used for global health as well.\"', 'WASHINGTON (AP) — AstraZeneca reported Monday that its COVID-19 vaccine provided strong protection among adults of all ages in a long-anticipated U.S. study, a finding that could help rebuild public confidence in the shot around the world and move it a step closer to clearance in the U.S.\\n\\nIn the study of 30,000 people, the vaccine was 79% effective at preventing symptomatic cases of COVID-19 — including in older adults. There were no severe illnesses or hospitalizations among vaccinated volunteers, compared with five such cases in participants who received dummy shots — a small number, but consistent with findings from Britain and other countries that the vaccine protects against the worst of the disease.\\nAstraZeneca also said the study’s independent safety monitors found no serious side effects, including no increased risk of rare blood clots like those identified in Europe, a scare that led numerous countries to briefly suspend vaccinations last week.\\n\\n“I do hope it puts to bed any doubts about the vaccine efficacy,” Mene Pangalos, AstraZeneca’s biopharmaceuticals research chief, told The Associated Press. “Overall where the vaccine is being used, it’s been shown to be highly effective. So I hope that the U.S. study now will continue to give the vaccine some momentum and get it used even further around the world.”\\n\\nThe company aims to file an application with the Food and Drug Administration in the coming weeks, and the government’s outside advisers will publicly debate the evidence before the agency makes a decision. Pangalos said the vaccine could win emergency authorization toward the second half of April. If so, the company would deliver 30 million doses immediately and an additional 20 million within the first month.\\n\\nWhat that will mean for America’s vaccination plans is unclear. The Biden administration already projects there will be enough doses for all adults by the end of May thanks to increasing supplies from the makers of the three vaccines already in use in the U.S. — Pfizer, Moderna and Johnson & Johnson.\\n\\nFederal officials said they didn’t want to prejudge the FDA’s review but cast the AstraZeneca findings as a victory both for the U.S. supply and the global fight against the virus.\\n\\n“There are very many countries in Europe and throughout the world who have already authorized this, so the fact that a United States-run study has confirmed the efficacy and the safety of this vaccine I think is an important contribution to global health in general,” said Dr. Anthony Fauci, the top U.S. infectious disease expert.\\nThe AstraZeneca shot, which has been authorized in more than 70 countries, is a pillar of a U.N.-backed project known as COVAX that aims to get COVID-19 vaccines to poorer countries. It has also become a key tool in European countries’ efforts to boost their sluggish vaccine rollouts. That made doubts about the shots especially worrying.\\n\\nEven before the blood clot scare, scientists hoped the U.S. study would clear up some confusion about how well the vaccine really works. While previous research suggested it was effective in younger populations, there were questions about how well it protects those over 65, often those most vulnerable to COVID-19.\\n\\nAlso, Britain authorized the vaccine based on partial results from testing in the United Kingdom, Brazil and South Africa that suggested the shots were about 70% effective. But those results were clouded by a manufacturing mistake that led some participants to get just a half dose in their first shot.\\nStephen Evans, of the London School of Hygiene & Tropical Medicine, said the new data could help allay concerns.\\n\\n“The benefits of these results will mainly be for the rest of the world where confidence in the AZ vaccine has been eroded, largely by political and media comment,” he said.\\n\\nTwo-thirds of the volunteers in the U.S. study received the vaccine and the rest dummy shots, and Monday’s report is based on the first 141 COVID-19 cases reported after the second vaccine dose kicked in. AstraZeneca declined to provide a breakdown of those cases, as it continues to prepare its FDA submission.\\n\\nBut Fauci said the study was careful to include different ages, racial and ethnic minorities, and people with underlying health conditions, and found “comparable efficacy across ethnicity and age.”\\nDr. Paul Hunter, a professor of medicine at the University of East Anglia, said the results were reassuring but that more details are needed to back up AstraZeneca’s claims.\\n\\n“But this should add confidence that the vaccine is doing what it is most needed for,” said Hunter, who was not connected to the study.\\n\\nOn the safety front, France, Germany, Italy and other countries have resumed their use of the AstraZeneca vaccine after the suspension last week to investigate clots. On Thursday, the European Medicines Agency concluded the vaccine did not raise the overall risk of clots, but could not rule out that it was connected to two very rare types.\\n\\nIn the U.S., as in Britain and Europe, major efforts already are underway to watch for any unexpected problems as the first vaccines are rolling out. And as the U.S. considers AstraZeneca’s vaccine, Fauci said, “You can rest assured that the FDA will put a great deal of scrutiny in every aspect of these data.”\\nThe AstraZeneca shot is what scientists call a “viral vector” vaccine. The shots are made with a harmless cold virus that normally infects chimpanzees. It acts like a Trojan horse to carry genetic material from the coronavirus’s spike protein into the body. That primes the immune system to fight back if the real virus comes along.\\n\\nTwo other companies, Johnson & Johnson and China’s CanSino Biologics, make COVID-19 vaccines using the same technology but using different cold viruses.', 'Health-care analysts welcomed AstraZeneca’s findings of hotly anticipated late-stage U.S. trial results for its Covid-19 vaccine.\\n\\nThe trial of more than 30,000 participants in the U.S., Peru and Chile found that the vaccine had an overall efficacy of 79% in preventing symptomatic Covid and was 100% effective in preventing severe disease and hospitalization.\\nEfficacy was consistent across age and ethnic groups, with 80% efficacy in participants at least 65 years old. The vaccine, known as AZD1222 and developed with the University of Oxford, was well-tolerated and the independent data safety monitoring board identified no safety concerns related to the vaccine, the company said Monday.\\n\\nData exceeded expectations\\nIn a research note, Jefferies health-care analyst Peter Welford called the data “surprisingly positive.”\\n\\nAdam Barker, health-care analyst at Shore Capital, said: “This is arguably the first trial for AZD1222 which has shown compelling efficacy in those 65 years and older”.\\n\\nThis is important because there were questions about efficacy in this age group. Previous studies were hampered by a smaller number of elderly participants. In this trial, 20% of the participants were 65 years or older and 60% had co-morbidities which put them at increased risk of developing severe disease. \\nMonday’s trial data confirmed the safety profile of the vaccine. Barker said because the data is from a single trial using a single-dosing regimen, it removes the complications of data interpretation that has been seen in the past with the AstraZeneca-Oxford vaccine.\\n\\nBarker added that the lack of evidence for blood clots in the study was also reassuring given recent concerns. “However, we are not surprised by this data given the evidence for a link between the vaccine and blood clots was already fairly weak.”\\n\\nAstraZeneca said it will continue to analyze the data and prepare for the primary analysis to be submitted to the U.S. Food and Drug Administration for emergency use authorization in coming weeks. The vaccine has already been granted a conditional marketing authorization or emergency use in more than 70 countries across six continents.\\n\\nDosing regimen a key question for the FDA\\n“I can’t see why the regulator wouldn’t approve it,” Barker wrote, but cautioned that the detailed data was still outstanding. \\n\\nOne key question for the FDA will be what dosing regimen it will endorse should it ultimately approve the vaccine for emergency use.\\n\\n“This trial is based on dosing 4 weeks apart, but we know efficacy may be greater if you dose with a longer interval (up to 12 weeks) and countries like the U.K. have successfully used this ‘longer duration between doses’ strategy to vaccinate more people quickly,” Barker said.\\n\\nSo the question for the FDA is whether it will recommend giving the two doses four weeks apart — given that’s what was tested in the U.S. trial — or include data from the U.K. and elsewhere that suggests a longer duration.\\n\\nWelford also noted the suboptimal dosing regimen used in this trial. “The trial evaluated the 4-week dosing schedule, but we have evidence to suggest the vaccine works better with a longer dosing interval,” he said.\\n\\n“Primary analysis of the Phase III clinical trials from the U.K., Brazil and South Africa showed 62% efficacy when given the vaccine was given at an interval of 4 to 12 weeks but efficacy increased to 82% when the interval was stretched to 12 weeks.”\\n\\nBeyond dosing, analysts are also watching for detail on how the vaccine protects against different variants. This is expected to be included in the package of data submitted to the FDA.\\n\\nWhen it comes to comparing today’s efficacy data to that from some of the other vaccine-makers, Welford cautioned that since the initial vaccine readouts from Pfizer and Moderna, Covid-19 variants have become increasingly common, so the efficacy data is not directly comparable across the different vaccines.\\n\\nBarker added that the trial results gave the vaccine important validation. “Given its cost and ease of storage and distribution, AZD1222 was once described as a ‘vaccine for the world’. This is a fair label in our opinion,” he wrote. “Data like this reported today that more conclusively demonstrates the efficacy and safety of AZD1222 is certainly something to celebrate.”\\n\\nAstraZeneca has pledged to distribute the vaccine at no profit for the duration of the pandemic. The company’s shares traded 2% higher in London on Monday.', 'Bloomberg\\'s Mark Gurman today revealed that Apple has been developing new speakers that are equipped with \"screens and cameras,\" suggesting we could see a future HomePod-like device that has a built-in display and camera feature for FaceTiming and other functions.\\nAhead of these rumors, MacRumors contributor Steve Moser was combing through the tvOS 14.5 beta code and found that Apple has added FaceTime and iMessage frameworks, along with a new AVFCapture framework related to capturing images.\\n\\nYou might be wondering what tvOS code has to do with the HomePod, but in April 2020 Apple began using tvOS as the basis for the software that runs on the ?HomePod? rather than iOS. watchOS, tvOS, and the software that runs on the ?HomePod? are all variants of iOS, but each one is differentiated by the device the software is intended to run on with unique interfaces, APIs, and more.\\n\\nThat means features included in tvOS are also included in the ?HomePod? software since they have the same base code. Therefore, the ?FaceTime?, iMessage, and image capture frameworks added to tvOS in tvOS 14.5 could actually be designed for a future ?HomePod? that has a screen and a camera, as described by Gurman.\\nThe ?HomePod? and HomePod mini are able to use ?FaceTime? audio already, but the ?FaceTime? framework discovered in the 14.5 beta is distinct from any code related to the existing audio ?FaceTime? feature. The frameworks are in the tvOS 14.5 beta and the 14.5 ?HomePod? software beta available to select testers.\\n\\nGurman says there is no \"imminent launch\" planned for the camera-equipped speaker, so it\\'s possible no such product will make an appearance. It\\'s also entirely possible that the iMessage, ?FaceTime?, and AVFCapture frameworks introduced in tvOS 14.5 have an entirely different purpose that may be entirely unrelated to a ?HomePod? and could remain hidden in the code or used for an unspecified feature coming to the Apple TV or the ?HomePod? in the future.\\n\\nIn semi-related news, the 14.5 beta also suggests that Apple could potentially be developing some kind of trivia game for Siri, where ?Siri? could provide trivia questions for users to answer. This is labeled as \"?Siri? Edutainment\" in the code, but it is not clear if it will be a built-in ?Siri? feature or support for a third-party product.', 'Apple Inc.’s HomePod mini speaker launched last November with new features such as a home intercom system. But one part of the device has remained secret: a sensor that measures temperature and humidity. \\n\\nThe Cupertino, California-based technology giant never disclosed this component and the device currently lacks consumer-facing features that use it. The company has internally discussed using the sensor to determine a room’s temperature and humidity so internet-connected thermostats can adjust different parts of a home based on current conditions, according to people familiar with the situation. The hardware could also let the HomePod mini automatically trigger other actions, say turning a fan on or off, depending on the temperature.\\nIf Apple eventually enables the sensor, it would bolster a smart-home strategy that has sometimes lacked focus and trailed those of rivals. Amazon.com Inc.’s latest Echo speakers have temperature sensors, while Google’s Nest sells sensors that can be placed around homes and connect to its thermostats to adjust the temperature of each room. \\nThe new capabilities would be a particular boon to an Apple software system called HomeKit that controls thermostats, lights, locks, plugs and other devices in the home. HomeKit works with fewer gadgets than similar software from Amazon and Google and Apple doesn’t make its own smart-home hardware beyond the HomePod and Apple TV streaming box. However, there are about 40 thermostats featured on Apple’s website that are compatible with HomeKit. \\nThe sensor, measuring 1.5 by 1.5 millimeters, is buried in the bottom edge of the HomePod mini’s plastic, fabric-wrapped case near its power cable. The component’s location was confirmed by iFixit, which took apart one of the speakers after an inquiry from Bloomberg News. The sensor is made by Texas Instruments Inc. and is called the HDC2010 Humidity and Temperature Digital Sensor, according to TechInsights, a firm that analyses components inside of electronics.\\nThe part is situated relatively far from the device’s main internal components, meaning it is designed to measure the external environment rather than the temperature of the speaker’s other electronics. Many mobile devices include sensors that can trigger the device to slow performance or disable features to stop components overheating.  \\nWhile rare, this isn’t the first time Apple has slipped a dormant piece of technology into its devices. The 2008 iPod touch had a Bluetooth chip, but support for Bluetooth connectivity was enabled the following year via software. Apple typically releases major HomePod software updates annually in the fall. It’s unclear if or when Apple will switch on the temperature sensor, but its presence in HomePod mini units that have already sold suggests that this is just a matter of time. An Apple spokeswoman declined to comment.\\nApple didn’t have a serious offering in the smart-home market until 2018 with the original HomePod. That device was discontinued recently after lackluster sales. Some decision makers at the company worry it may be too late for Apple to make a strong entry in the sector, especially as it focuses on other new categories such as  virtual and augmented-reality headsets and electric autonomous cars. Others believe the company can take its time and customers will still be interested. \\n', \"A tiny component has the potential to revive a smart-home strategy that has trailed Amazon and Google.\\nThe Lede\\nThe HomePod mini speaker, launched last November, has a sensor that measures a room's temperature and humidity. The sensor, 1.5 by 1.5 millimeters in size, is embedded at the bottom of the device's plastic case and currently is not switched on.\\nKey Details\\nApple has discussed internally the possibility of using the sensor to connect to other smart home devices such as thermostats and fans to adjust a room's temperature and humidity.\\nApple is currently trailing in the smart-home market, but this dormant capability might allow it to catch up with its competitors, including Amazon's latest Echo speakers, which come with temperature sensors.\\nAn Apple representative declined to say when the sensor might be enabled for consumers.\"]\n"
     ]
    }
   ],
   "source": [
    "# Importing articles for assignment\n",
    "docs = []\n",
    "path = './tp_dataset/'\n",
    "dirs = os.listdir(path)\n",
    "\n",
    "for filename in dirs:\n",
    "    with open(path+filename,'r') as f:\n",
    "        docs.append(f.read())\n",
    "print(docs)"
   ]
  },
  {
   "cell_type": "markdown",
   "metadata": {},
   "source": [
    "## T2: Write code to tokenize the docs"
   ]
  },
  {
   "cell_type": "code",
   "execution_count": 3,
   "metadata": {},
   "outputs": [
    {
     "name": "stdout",
     "output_type": "stream",
     "text": [
      "     accord  actually  advisers    africa       age  american     among  \\\n",
      "0  0.029190  0.029190  0.000000  0.000000  0.000000  0.066075  0.066075   \n",
      "1  0.090013  0.030004  0.135834  0.000000  0.000000  0.033959  0.000000   \n",
      "2  0.000000  0.047302  0.107073  0.000000  0.000000  0.000000  0.000000   \n",
      "3  0.069686  0.000000  0.000000  0.078870  0.197176  0.078870  0.039435   \n",
      "4  0.000000  0.000000  0.035535  0.035535  0.106606  0.000000  0.071071   \n",
      "5  0.000000  0.000000  0.000000  0.031479  0.062957  0.000000  0.000000   \n",
      "6  0.000000  0.057728  0.000000  0.000000  0.000000  0.000000  0.000000   \n",
      "7  0.100709  0.000000  0.000000  0.000000  0.000000  0.000000  0.000000   \n",
      "8  0.000000  0.000000  0.000000  0.000000  0.000000  0.000000  0.000000   \n",
      "\n",
      "      apple     april    around  ...  university   vaccine  vaccines  \\\n",
      "0  0.000000  0.000000  0.033037  ...    0.000000  0.000000  0.000000   \n",
      "1  0.000000  0.060008  0.000000  ...    0.000000  0.000000  0.000000   \n",
      "2  0.000000  0.000000  0.000000  ...    0.000000  0.000000  0.000000   \n",
      "3  0.000000  0.034843  0.000000  ...    0.118305  0.670397  0.118305   \n",
      "4  0.000000  0.031397  0.071071  ...    0.035535  0.675170  0.142141   \n",
      "5  0.000000  0.000000  0.000000  ...    0.031479  0.535137  0.031479   \n",
      "6  0.326679  0.057728  0.000000  ...    0.000000  0.000000  0.000000   \n",
      "7  0.683891  0.000000  0.056991  ...    0.000000  0.000000  0.000000   \n",
      "8  0.564479  0.000000  0.000000  ...    0.000000  0.000000  0.000000   \n",
      "\n",
      "     wealth     weeks     white      wing     world      year     years  \n",
      "0  0.033037  0.029190  0.145952  0.033037  0.000000  0.033037  0.058381  \n",
      "1  0.033959  0.090013  0.180025  0.067917  0.000000  0.000000  0.000000  \n",
      "2  0.053536  0.000000  0.141907  0.053536  0.000000  0.053536  0.047302  \n",
      "3  0.000000  0.000000  0.034843  0.000000  0.078870  0.000000  0.069686  \n",
      "4  0.000000  0.031397  0.000000  0.000000  0.142141  0.000000  0.000000  \n",
      "5  0.000000  0.166879  0.000000  0.000000  0.031479  0.000000  0.083439  \n",
      "6  0.000000  0.000000  0.000000  0.000000  0.000000  0.000000  0.000000  \n",
      "7  0.000000  0.000000  0.000000  0.000000  0.000000  0.056991  0.000000  \n",
      "8  0.000000  0.000000  0.000000  0.000000  0.000000  0.000000  0.000000  \n",
      "\n",
      "[9 rows x 182 columns]\n"
     ]
    },
    {
     "name": "stderr",
     "output_type": "stream",
     "text": [
      "C:\\anaconda3\\lib\\site-packages\\sklearn\\feature_extraction\\text.py:383: UserWarning: Your stop_words may be inconsistent with your preprocessing. Tokenizing the stop words generated tokens [\"'d\", \"'ll\", \"'re\", \"'s\", \"'ve\", 'could', 'might', 'must', \"n't\", 'need', 'sha', 'win', 'wo', 'would'] not in stop_words.\n",
      "  warnings.warn('Your stop_words may be inconsistent with '\n"
     ]
    }
   ],
   "source": [
    "# Creating tokenization function to convert alll words to lowercase, remove punctions, remove numbers, conduct lemmatizationn\n",
    "# and remoe stop words\n",
    "\n",
    "def before_token(documents):\n",
    "    # conver words to lower case\n",
    "    lower = map(str.lower, documents)\n",
    "    # remove puntuations\n",
    "    punctuationless = list(map(lambda x: \" \".join(re.findall('\\\\b\\\\w\\\\w+\\\\b',x)), lower))\n",
    "    # remove numbers\n",
    "    return list(map(lambda x:re.sub('\\\\b[0-9]+\\\\b', '', x), punctuationless))\n",
    "docs1 = before_token(docs)\n",
    "\n",
    "class LemmaTokenizer(object):\n",
    "    def __init__(self):\n",
    "        self.wnl = WordNetLemmatizer()\n",
    "    def __call__(self, doc):\n",
    "        return [self.wnl.lemmatize(t,\"v\") for t in word_tokenize(doc)]\n",
    "stopwords = nltk.corpus.stopwords.words(\"english\")\n",
    "\n",
    "# Setting the min_df parameter to 3, to remove words that appears in only 1 or 2 documents\n",
    "# Setting the max_df parameter to 0.5 to remove words that appear in over 50% of the documents\n",
    "vectorizer = TfidfVectorizer(tokenizer=LemmaTokenizer(),norm='l2',stop_words=stopwords,min_df=3,max_df=0.5)\n",
    "\n",
    "#vectorizer = TfidfVectorizer(tokenizer=LemmaTokenizer(),stop_words=stopwords)\n",
    "corpus_vect = vectorizer.fit_transform(docs1)\n",
    "#print(corpus_vect) # sparse matrix\n",
    "df_vect = pd.DataFrame(corpus_vect.toarray(), columns=vectorizer.get_feature_names())\n",
    "print(df_vect)"
   ]
  },
  {
   "cell_type": "markdown",
   "metadata": {},
   "source": [
    "## T3: Discus the meaning of TF-IDF"
   ]
  },
  {
   "cell_type": "markdown",
   "metadata": {},
   "source": [
    "TF-IDF is a text mining method to determine if certain terms, or this case words, are useful in each document within a corpus and if they are good indications of the document's topic. It assigns a score based on the number of times it appears within a document, but also the number of times it appears within the corpus. The first part $tf$ (the number of times it appears in a specific document) multiplied by the number of documents within the corpus divided by the frequency it appears within all documents. Therefore, the score will go down the more it appears in other documents, since we are attempting to seperate it from other documents. The formula is as follows:\n",
    "\n",
    "$$tf.log\\biggl(\\frac{N}{df(w)}\\biggr)$$"
   ]
  },
  {
   "cell_type": "markdown",
   "metadata": {},
   "source": [
    "## T4: Convert the rectorized data to a gensum corpus object"
   ]
  },
  {
   "cell_type": "code",
   "execution_count": 4,
   "metadata": {},
   "outputs": [
    {
     "name": "stdout",
     "output_type": "stream",
     "text": [
      "{177: 'white', 67: 'house', 101: 'officials', 116: 'prepare', 117: 'president', 15: 'biden', 168: 'trillion', 71: 'infrastructure', 74: 'job', 106: 'package', 46: 'domestic', 121: 'priorities', 26: 'college', 171: 'universal', 0: 'accord', 55: 'familiar', 35: 'coronavirus', 111: 'piece', 99: 'next', 85: 'major', 82: 'legislative', 126: 'push', 58: 'focus', 163: 'tax', 181: 'years', 30: 'condition', 40: 'describe', 34: 'conversations', 170: 'unclear', 157: 'still', 176: 'weeks', 143: 'second', 6: 'among', 167: 'top', 39: 'democrats', 134: 'republicans', 68: 'however', 87: 'many', 64: 'hike', 154: 'spend', 61: 'give', 14: 'beyond', 54: 'emergency', 107: 'pandemic', 130: 'real', 148: 'since', 162: 'system', 36: 'could', 5: 'american', 92: 'measure', 145: 'senate', 118: 'press', 73: 'jen', 124: 'psaki', 155: 'statement', 156: 'step', 164: 'team', 32: 'consider', 129: 'range', 114: 'potential', 104: 'options', 72: 'invest', 56: 'families', 132: 'reform', 25: 'code', 138: 'reward', 175: 'wealth', 103: 'ongoing', 153: 'speculation', 60: 'future', 50: 'economic', 123: 'proposals', 115: 'premature', 131: 'reflection', 165: 'think', 78: 'largely', 23: 'climate', 95: 'minority', 80: 'leader', 96: 'mitch', 90: 'mcconnell', 122: 'proposal', 1: 'actually', 169: 'trojan', 66: 'horse', 89: 'massive', 76: 'kill', 81: 'leave', 178: 'wing', 113: 'policies', 9: 'around', 140: 'roads', 20: 'bridge', 141: 'safety', 142: 'school', 62: 'group', 16: 'billion', 28: 'component', 133: 'relate', 135: 'research', 12: 'available', 21: 'care', 180: 'year', 51: 'economy', 128: 'raise', 2: 'advisers', 75: 'key', 166: 'time', 137: 'review', 151: 'speaker', 112: 'pledge', 125: 'public', 110: 'phase', 8: 'april', 100: 'number', 149: 'size', 144: 'see', 41: 'design', 93: 'might', 18: 'boost', 127: 'question', 10: 'astrazeneca', 173: 'vaccine', 147: 'show', 53: 'efficacy', 161: 'symptomatic', 45: 'disease', 146: 'severe', 27: 'company', 57: 'find', 108: 'participants', 43: 'develop', 172: 'university', 69: 'identify', 29: 'concern', 70: 'independent', 139: 'risk', 47: 'dose', 38: 'data', 11: 'authorization', 59: 'food', 48: 'drug', 120: 'previous', 19: 'brazil', 150: 'south', 3: 'africa', 179: 'world', 4: 'age', 102: 'older', 49: 'echo', 105: 'overall', 136: 'result', 37: 'countries', 77: 'lack', 84: 'london', 13: 'become', 17: 'blood', 24: 'clot', 52: 'effective', 119: 'prevent', 33: 'consistent', 159: 'strong', 98: 'news', 174: 'vaccines', 109: 'pfizer', 97: 'moderna', 63: 'health', 22: 'case', 83: 'like', 91: 'mean', 86: 'makers', 160: 'suggest', 42: 'detail', 31: 'connect', 88: 'market', 158: 'strategy', 7: 'apple', 152: 'speakers', 65: 'homepod', 44: 'device', 94: 'mini', 79: 'launch'}\n"
     ]
    }
   ],
   "source": [
    "# convert the vectorized data to a gensim corpus object\n",
    "from gensim import corpora\n",
    "word2id = dict((k, v) for k, v in vectorizer.vocabulary_.items())\n",
    "id2word = dict((v, k) for k,v in vectorizer.vocabulary_.items())\n",
    "d=corpora.Dictionary()\n",
    "d.id2token = id2word\n",
    "d.token2id = word2id\n",
    "corpus = gensim.matutils.Sparse2Corpus(corpus_vect, documents_columns=False)\n",
    "print(id2word)"
   ]
  },
  {
   "cell_type": "markdown",
   "metadata": {},
   "source": [
    "## T5: Compute choerence scores for different # of topics"
   ]
  },
  {
   "cell_type": "code",
   "execution_count": 5,
   "metadata": {},
   "outputs": [
    {
     "name": "stdout",
     "output_type": "stream",
     "text": [
      "Coherence Score for 2 topics: -5.380243\n",
      "Coherence Score for 3 topics: -3.409956\n",
      "Coherence Score for 4 topics: -2.601411\n",
      "Coherence Score for 5 topics: -2.255650\n"
     ]
    }
   ],
   "source": [
    "# determine the optimal number of topics using coherence method\n",
    "# Setting the iterations to 60 instead of 30 as I was getting different results each run \n",
    "# for the 3 highest topic (between 4 and 5 topics)\n",
    "\n",
    "for i in [2,3,4,5]:\n",
    "    cs = 0\n",
    "    for j in range(60):\n",
    "        lda = LdaModel(corpus, num_topics=i,id2word=id2word, passes=50)\n",
    "        # print(lda.print_topics())\n",
    "        coherence_model_lda = CoherenceModel(model=lda, corpus=corpus, dictionary=d, coherence='u_mass')\n",
    "        coherence_lda = coherence_model_lda.get_coherence()\n",
    "        cs += coherence_lda\n",
    "    print('Coherence Score for %d topics: %f' % (i,cs/60))"
   ]
  },
  {
   "cell_type": "markdown",
   "metadata": {},
   "source": [
    "## T6: Comparing number of topics to determine optimal"
   ]
  },
  {
   "cell_type": "markdown",
   "metadata": {},
   "source": [
    "### Coherence Scores for 2 Topics"
   ]
  },
  {
   "cell_type": "code",
   "execution_count": 6,
   "metadata": {},
   "outputs": [
    {
     "name": "stdout",
     "output_type": "stream",
     "text": [
      "[(0, '0.016*\"biden\" + 0.014*\"infrastructure\" + 0.011*\"tax\" + 0.011*\"house\" + 0.010*\"spend\" + 0.009*\"trillion\" + 0.009*\"white\" + 0.008*\"proposal\" + 0.008*\"next\" + 0.008*\"republicans\"'), (1, '0.020*\"vaccine\" + 0.017*\"apple\" + 0.015*\"homepod\" + 0.011*\"astrazeneca\" + 0.010*\"data\" + 0.010*\"efficacy\" + 0.009*\"device\" + 0.009*\"dose\" + 0.008*\"mini\" + 0.008*\"could\"')]\n"
     ]
    }
   ],
   "source": [
    "# building the LDA model after for the optimal model: Topics = 2\n",
    "lda = LdaModel(corpus, num_topics=2,id2word=id2word, random_state=10, passes=50) # passing 50 times per instruction\n",
    "\n",
    "print(lda.print_topics())"
   ]
  },
  {
   "cell_type": "code",
   "execution_count": 7,
   "metadata": {},
   "outputs": [
    {
     "data": {
      "text/html": [
       "<div>\n",
       "<style scoped>\n",
       "    .dataframe tbody tr th:only-of-type {\n",
       "        vertical-align: middle;\n",
       "    }\n",
       "\n",
       "    .dataframe tbody tr th {\n",
       "        vertical-align: top;\n",
       "    }\n",
       "\n",
       "    .dataframe thead th {\n",
       "        text-align: right;\n",
       "    }\n",
       "</style>\n",
       "<table border=\"1\" class=\"dataframe\">\n",
       "  <thead>\n",
       "    <tr style=\"text-align: right;\">\n",
       "      <th></th>\n",
       "      <th>topic 1</th>\n",
       "      <th>topic 2</th>\n",
       "    </tr>\n",
       "  </thead>\n",
       "  <tbody>\n",
       "    <tr>\n",
       "      <th>0</th>\n",
       "      <td>0.922</td>\n",
       "      <td>0.078</td>\n",
       "    </tr>\n",
       "    <tr>\n",
       "      <th>1</th>\n",
       "      <td>0.922</td>\n",
       "      <td>0.078</td>\n",
       "    </tr>\n",
       "    <tr>\n",
       "      <th>2</th>\n",
       "      <td>0.923</td>\n",
       "      <td>0.077</td>\n",
       "    </tr>\n",
       "    <tr>\n",
       "      <th>3</th>\n",
       "      <td>0.092</td>\n",
       "      <td>0.908</td>\n",
       "    </tr>\n",
       "    <tr>\n",
       "      <th>4</th>\n",
       "      <td>0.093</td>\n",
       "      <td>0.907</td>\n",
       "    </tr>\n",
       "    <tr>\n",
       "      <th>5</th>\n",
       "      <td>0.096</td>\n",
       "      <td>0.904</td>\n",
       "    </tr>\n",
       "    <tr>\n",
       "      <th>6</th>\n",
       "      <td>0.133</td>\n",
       "      <td>0.867</td>\n",
       "    </tr>\n",
       "    <tr>\n",
       "      <th>7</th>\n",
       "      <td>0.117</td>\n",
       "      <td>0.883</td>\n",
       "    </tr>\n",
       "    <tr>\n",
       "      <th>8</th>\n",
       "      <td>0.118</td>\n",
       "      <td>0.882</td>\n",
       "    </tr>\n",
       "  </tbody>\n",
       "</table>\n",
       "</div>"
      ],
      "text/plain": [
       "   topic 1  topic 2\n",
       "0    0.922    0.078\n",
       "1    0.922    0.078\n",
       "2    0.923    0.077\n",
       "3    0.092    0.908\n",
       "4    0.093    0.907\n",
       "5    0.096    0.904\n",
       "6    0.133    0.867\n",
       "7    0.117    0.883\n",
       "8    0.118    0.882"
      ]
     },
     "execution_count": 7,
     "metadata": {},
     "output_type": "execute_result"
    }
   ],
   "source": [
    "# Printing the document/topic matrix as a data frame\n",
    "\n",
    "# use the lda model to transform documents\n",
    "lda_docs = lda[corpus]\n",
    "# extract the scores and round them to 3 decimal places\n",
    "scores = np.round([[doc[1] for doc in row] for row in lda_docs], 3)\n",
    "# convert the documents scores into a data frame\n",
    "df_lda = pd.DataFrame(scores, columns=[\"topic 1\", \"topic 2\"])\n",
    "df_lda"
   ]
  },
  {
   "cell_type": "markdown",
   "metadata": {},
   "source": [
    "### Coherence Scores for 3 Topics"
   ]
  },
  {
   "cell_type": "code",
   "execution_count": 8,
   "metadata": {},
   "outputs": [
    {
     "name": "stdout",
     "output_type": "stream",
     "text": [
      "[(0, '0.019*\"biden\" + 0.018*\"infrastructure\" + 0.013*\"tax\" + 0.012*\"house\" + 0.012*\"spend\" + 0.010*\"trillion\" + 0.010*\"white\" + 0.009*\"proposal\" + 0.009*\"next\" + 0.009*\"republicans\"'), (1, '0.026*\"apple\" + 0.023*\"homepod\" + 0.013*\"device\" + 0.011*\"mini\" + 0.010*\"might\" + 0.010*\"speakers\" + 0.009*\"code\" + 0.009*\"could\" + 0.009*\"speaker\" + 0.009*\"measure\"'), (2, '0.029*\"vaccine\" + 0.015*\"astrazeneca\" + 0.013*\"data\" + 0.013*\"efficacy\" + 0.012*\"dose\" + 0.009*\"countries\" + 0.009*\"age\" + 0.009*\"find\" + 0.009*\"participants\" + 0.008*\"result\"')]\n"
     ]
    }
   ],
   "source": [
    "# build the lda model after for the 2nd optimal model: Topics = 3\n",
    "lda2 = LdaModel(corpus, num_topics=3,id2word=id2word, random_state=10, passes=50) # passing 50 times per instruction\n",
    "print(lda2.print_topics())"
   ]
  },
  {
   "cell_type": "code",
   "execution_count": 9,
   "metadata": {},
   "outputs": [
    {
     "data": {
      "text/html": [
       "<div>\n",
       "<style scoped>\n",
       "    .dataframe tbody tr th:only-of-type {\n",
       "        vertical-align: middle;\n",
       "    }\n",
       "\n",
       "    .dataframe tbody tr th {\n",
       "        vertical-align: top;\n",
       "    }\n",
       "\n",
       "    .dataframe thead th {\n",
       "        text-align: right;\n",
       "    }\n",
       "</style>\n",
       "<table border=\"1\" class=\"dataframe\">\n",
       "  <thead>\n",
       "    <tr style=\"text-align: right;\">\n",
       "      <th></th>\n",
       "      <th>topic 1</th>\n",
       "      <th>topic 2</th>\n",
       "      <th>topic 3</th>\n",
       "    </tr>\n",
       "  </thead>\n",
       "  <tbody>\n",
       "    <tr>\n",
       "      <th>0</th>\n",
       "      <td>0.911</td>\n",
       "      <td>0.045</td>\n",
       "      <td>0.044</td>\n",
       "    </tr>\n",
       "    <tr>\n",
       "      <th>1</th>\n",
       "      <td>0.911</td>\n",
       "      <td>0.045</td>\n",
       "      <td>0.044</td>\n",
       "    </tr>\n",
       "    <tr>\n",
       "      <th>2</th>\n",
       "      <td>0.911</td>\n",
       "      <td>0.045</td>\n",
       "      <td>0.044</td>\n",
       "    </tr>\n",
       "    <tr>\n",
       "      <th>3</th>\n",
       "      <td>0.053</td>\n",
       "      <td>0.053</td>\n",
       "      <td>0.894</td>\n",
       "    </tr>\n",
       "    <tr>\n",
       "      <th>4</th>\n",
       "      <td>0.053</td>\n",
       "      <td>0.053</td>\n",
       "      <td>0.894</td>\n",
       "    </tr>\n",
       "    <tr>\n",
       "      <th>5</th>\n",
       "      <td>0.056</td>\n",
       "      <td>0.056</td>\n",
       "      <td>0.888</td>\n",
       "    </tr>\n",
       "    <tr>\n",
       "      <th>6</th>\n",
       "      <td>0.079</td>\n",
       "      <td>0.842</td>\n",
       "      <td>0.080</td>\n",
       "    </tr>\n",
       "    <tr>\n",
       "      <th>7</th>\n",
       "      <td>0.068</td>\n",
       "      <td>0.864</td>\n",
       "      <td>0.068</td>\n",
       "    </tr>\n",
       "    <tr>\n",
       "      <th>8</th>\n",
       "      <td>0.069</td>\n",
       "      <td>0.862</td>\n",
       "      <td>0.069</td>\n",
       "    </tr>\n",
       "  </tbody>\n",
       "</table>\n",
       "</div>"
      ],
      "text/plain": [
       "   topic 1  topic 2  topic 3\n",
       "0    0.911    0.045    0.044\n",
       "1    0.911    0.045    0.044\n",
       "2    0.911    0.045    0.044\n",
       "3    0.053    0.053    0.894\n",
       "4    0.053    0.053    0.894\n",
       "5    0.056    0.056    0.888\n",
       "6    0.079    0.842    0.080\n",
       "7    0.068    0.864    0.068\n",
       "8    0.069    0.862    0.069"
      ]
     },
     "execution_count": 9,
     "metadata": {},
     "output_type": "execute_result"
    }
   ],
   "source": [
    "# Printing the document/topic matrix as a data frame\n",
    "\n",
    "# use the LDA model to transform documents\n",
    "lda2_docs = lda2[corpus]\n",
    "# extract the scores and round them to 3 decimal places\n",
    "scores2 = np.round([[doc[1] for doc in row] for row in lda2_docs], 3)\n",
    "# convert the documents scores into a data frame\n",
    "df_lda2 = pd.DataFrame(scores2, columns=[\"topic 1\", \"topic 2\",\"topic 3\"])\n",
    "df_lda2"
   ]
  },
  {
   "cell_type": "markdown",
   "metadata": {},
   "source": [
    "### Coherence Scores for 4 Topics"
   ]
  },
  {
   "cell_type": "code",
   "execution_count": 10,
   "metadata": {},
   "outputs": [
    {
     "name": "stdout",
     "output_type": "stream",
     "text": [
      "[(0, '0.022*\"biden\" + 0.021*\"infrastructure\" + 0.015*\"tax\" + 0.014*\"house\" + 0.014*\"spend\" + 0.011*\"trillion\" + 0.011*\"white\" + 0.010*\"proposal\" + 0.010*\"next\" + 0.009*\"republicans\"'), (1, '0.032*\"apple\" + 0.027*\"homepod\" + 0.015*\"device\" + 0.013*\"mini\" + 0.011*\"might\" + 0.011*\"speakers\" + 0.010*\"code\" + 0.010*\"could\" + 0.010*\"speaker\" + 0.010*\"measure\"'), (2, '0.034*\"vaccine\" + 0.017*\"astrazeneca\" + 0.015*\"data\" + 0.014*\"efficacy\" + 0.013*\"dose\" + 0.010*\"countries\" + 0.010*\"age\" + 0.010*\"participants\" + 0.010*\"find\" + 0.009*\"result\"'), (3, '0.005*\"see\" + 0.005*\"question\" + 0.005*\"key\" + 0.005*\"april\" + 0.005*\"accord\" + 0.005*\"relate\" + 0.005*\"could\" + 0.005*\"available\" + 0.005*\"describe\" + 0.005*\"since\"')]\n"
     ]
    }
   ],
   "source": [
    "# build the lda model after for the 3rd optimal model: Topics = 4\n",
    "lda3 = LdaModel(corpus, num_topics=4,id2word=id2word, random_state=10, passes=50) # passing 50 times per instruction\n",
    "print(lda3.print_topics())"
   ]
  },
  {
   "cell_type": "code",
   "execution_count": 11,
   "metadata": {},
   "outputs": [
    {
     "data": {
      "text/html": [
       "<div>\n",
       "<style scoped>\n",
       "    .dataframe tbody tr th:only-of-type {\n",
       "        vertical-align: middle;\n",
       "    }\n",
       "\n",
       "    .dataframe tbody tr th {\n",
       "        vertical-align: top;\n",
       "    }\n",
       "\n",
       "    .dataframe thead th {\n",
       "        text-align: right;\n",
       "    }\n",
       "</style>\n",
       "<table border=\"1\" class=\"dataframe\">\n",
       "  <thead>\n",
       "    <tr style=\"text-align: right;\">\n",
       "      <th></th>\n",
       "      <th>topic 1</th>\n",
       "      <th>topic 2</th>\n",
       "      <th>topic 3</th>\n",
       "      <th>topic 4</th>\n",
       "    </tr>\n",
       "  </thead>\n",
       "  <tbody>\n",
       "    <tr>\n",
       "      <th>0</th>\n",
       "      <td>0.905</td>\n",
       "      <td>0.032</td>\n",
       "      <td>0.032</td>\n",
       "      <td>0.032</td>\n",
       "    </tr>\n",
       "    <tr>\n",
       "      <th>1</th>\n",
       "      <td>0.904</td>\n",
       "      <td>0.032</td>\n",
       "      <td>0.032</td>\n",
       "      <td>0.032</td>\n",
       "    </tr>\n",
       "    <tr>\n",
       "      <th>2</th>\n",
       "      <td>0.903</td>\n",
       "      <td>0.032</td>\n",
       "      <td>0.032</td>\n",
       "      <td>0.032</td>\n",
       "    </tr>\n",
       "    <tr>\n",
       "      <th>3</th>\n",
       "      <td>0.038</td>\n",
       "      <td>0.038</td>\n",
       "      <td>0.885</td>\n",
       "      <td>0.038</td>\n",
       "    </tr>\n",
       "    <tr>\n",
       "      <th>4</th>\n",
       "      <td>0.038</td>\n",
       "      <td>0.038</td>\n",
       "      <td>0.887</td>\n",
       "      <td>0.037</td>\n",
       "    </tr>\n",
       "    <tr>\n",
       "      <th>5</th>\n",
       "      <td>0.040</td>\n",
       "      <td>0.041</td>\n",
       "      <td>0.879</td>\n",
       "      <td>0.040</td>\n",
       "    </tr>\n",
       "    <tr>\n",
       "      <th>6</th>\n",
       "      <td>0.057</td>\n",
       "      <td>0.829</td>\n",
       "      <td>0.057</td>\n",
       "      <td>0.057</td>\n",
       "    </tr>\n",
       "    <tr>\n",
       "      <th>7</th>\n",
       "      <td>0.049</td>\n",
       "      <td>0.853</td>\n",
       "      <td>0.049</td>\n",
       "      <td>0.049</td>\n",
       "    </tr>\n",
       "    <tr>\n",
       "      <th>8</th>\n",
       "      <td>0.051</td>\n",
       "      <td>0.849</td>\n",
       "      <td>0.050</td>\n",
       "      <td>0.050</td>\n",
       "    </tr>\n",
       "  </tbody>\n",
       "</table>\n",
       "</div>"
      ],
      "text/plain": [
       "   topic 1  topic 2  topic 3  topic 4\n",
       "0    0.905    0.032    0.032    0.032\n",
       "1    0.904    0.032    0.032    0.032\n",
       "2    0.903    0.032    0.032    0.032\n",
       "3    0.038    0.038    0.885    0.038\n",
       "4    0.038    0.038    0.887    0.037\n",
       "5    0.040    0.041    0.879    0.040\n",
       "6    0.057    0.829    0.057    0.057\n",
       "7    0.049    0.853    0.049    0.049\n",
       "8    0.051    0.849    0.050    0.050"
      ]
     },
     "execution_count": 11,
     "metadata": {},
     "output_type": "execute_result"
    }
   ],
   "source": [
    "# Printing the document/topic matrix as a data frame\n",
    "\n",
    "# use the LDA model to transform documents\n",
    "lda3_docs = lda3[corpus]\n",
    "# extract the scores and round them to 3 decimal places\n",
    "scores3 = np.round([[doc[1] for doc in row] for row in lda3_docs], 3)\n",
    "# convert the documents scores into a data frame\n",
    "df_lda3 = pd.DataFrame(scores3, columns=[\"topic 1\", \"topic 2\",\"topic 3\",\"topic 4\"])\n",
    "df_lda3"
   ]
  },
  {
   "cell_type": "markdown",
   "metadata": {},
   "source": [
    "## T7: Choosing the Optimal # of topics"
   ]
  },
  {
   "cell_type": "markdown",
   "metadata": {},
   "source": [
    "According to the analysis above, I would choose 3 topics to run the SVD model. While 2 topics has the highest average coherence scores (the first topic for the first 2 documents has a mean of 0.922, and the remaining documents have a mean of 0.894), the 3 topic option does not have much tradeoff. The Topic 2 score only drops by 2%, and topic 3 has a score of .894. Therefore, while there is probably 2 topics within the all the documents, there appears to be another topic as well that can derive more detail into the documents and would be undiscoverd if the 2 topic option was chosen.\n",
    "\n",
    "The 4 topic model appears to be the worst score as there does not appear to be a cluster of documents that have good scores for the 4th topic that I can derive, so this is not a option to consider."
   ]
  },
  {
   "cell_type": "code",
   "execution_count": 12,
   "metadata": {},
   "outputs": [
    {
     "name": "stdout",
     "output_type": "stream",
     "text": [
      "2 Topic Mean Top Coherence Scores\n"
     ]
    },
    {
     "data": {
      "text/html": [
       "<div>\n",
       "<style scoped>\n",
       "    .dataframe tbody tr th:only-of-type {\n",
       "        vertical-align: middle;\n",
       "    }\n",
       "\n",
       "    .dataframe tbody tr th {\n",
       "        vertical-align: top;\n",
       "    }\n",
       "\n",
       "    .dataframe thead th {\n",
       "        text-align: right;\n",
       "    }\n",
       "</style>\n",
       "<table border=\"1\" class=\"dataframe\">\n",
       "  <thead>\n",
       "    <tr style=\"text-align: right;\">\n",
       "      <th></th>\n",
       "      <th>Topic</th>\n",
       "      <th>Mean</th>\n",
       "    </tr>\n",
       "  </thead>\n",
       "  <tbody>\n",
       "    <tr>\n",
       "      <th>0</th>\n",
       "      <td>Topic 1</td>\n",
       "      <td>0.922</td>\n",
       "    </tr>\n",
       "    <tr>\n",
       "      <th>1</th>\n",
       "      <td>Topic 2</td>\n",
       "      <td>0.894</td>\n",
       "    </tr>\n",
       "  </tbody>\n",
       "</table>\n",
       "</div>"
      ],
      "text/plain": [
       "     Topic   Mean\n",
       "0  Topic 1  0.922\n",
       "1  Topic 2  0.894"
      ]
     },
     "execution_count": 12,
     "metadata": {},
     "output_type": "execute_result"
    }
   ],
   "source": [
    "# Calculating document mean of top scores for 2 topics\n",
    "a = [['Topic 1',round(mean(df_lda.iloc[0:2,0]),3)],\n",
    "      ['Topic 2',round(mean(df_lda.iloc[3:8,1]),3)]]\n",
    "summ_df = pd.DataFrame(a,columns = ['Topic','Mean'])\n",
    "print('2 Topic Mean Top Coherence Scores')\n",
    "summ_df"
   ]
  },
  {
   "cell_type": "code",
   "execution_count": 13,
   "metadata": {},
   "outputs": [
    {
     "name": "stdout",
     "output_type": "stream",
     "text": [
      "3 Topic Mean Top Coherence Scores\n"
     ]
    },
    {
     "data": {
      "text/html": [
       "<div>\n",
       "<style scoped>\n",
       "    .dataframe tbody tr th:only-of-type {\n",
       "        vertical-align: middle;\n",
       "    }\n",
       "\n",
       "    .dataframe tbody tr th {\n",
       "        vertical-align: top;\n",
       "    }\n",
       "\n",
       "    .dataframe thead th {\n",
       "        text-align: right;\n",
       "    }\n",
       "</style>\n",
       "<table border=\"1\" class=\"dataframe\">\n",
       "  <thead>\n",
       "    <tr style=\"text-align: right;\">\n",
       "      <th></th>\n",
       "      <th>Topic</th>\n",
       "      <th>Mean Score</th>\n",
       "    </tr>\n",
       "  </thead>\n",
       "  <tbody>\n",
       "    <tr>\n",
       "      <th>0</th>\n",
       "      <td>Topic 1</td>\n",
       "      <td>0.911</td>\n",
       "    </tr>\n",
       "    <tr>\n",
       "      <th>1</th>\n",
       "      <td>Topic 2</td>\n",
       "      <td>0.853</td>\n",
       "    </tr>\n",
       "    <tr>\n",
       "      <th>2</th>\n",
       "      <td>Topic 3</td>\n",
       "      <td>0.894</td>\n",
       "    </tr>\n",
       "  </tbody>\n",
       "</table>\n",
       "</div>"
      ],
      "text/plain": [
       "     Topic  Mean Score\n",
       "0  Topic 1       0.911\n",
       "1  Topic 2       0.853\n",
       "2  Topic 3       0.894"
      ]
     },
     "execution_count": 13,
     "metadata": {},
     "output_type": "execute_result"
    }
   ],
   "source": [
    "# Calculating document mean of top scores for 3 topics\n",
    "a2 = [['Topic 1',round(mean(df_lda2.iloc[0:2,0]),3)],\n",
    "      ['Topic 2',round(mean(df_lda2.iloc[6:8,1]),3)],\n",
    "      ['Topic 3',round(mean(df_lda2.iloc[3:5,2]),3)]]\n",
    "summ_df2 = pd.DataFrame(a2,columns = ['Topic','Mean Score'])\n",
    "print('3 Topic Mean Top Coherence Scores')\n",
    "summ_df2"
   ]
  },
  {
   "cell_type": "markdown",
   "metadata": {},
   "source": [
    "## T8: Run a Truncated SVD"
   ]
  },
  {
   "cell_type": "code",
   "execution_count": 14,
   "metadata": {},
   "outputs": [
    {
     "name": "stdout",
     "output_type": "stream",
     "text": [
      "[[ 0.721 -0.56  -0.22 ]\n",
      " [ 0.706 -0.548 -0.2  ]\n",
      " [ 0.701 -0.579 -0.213]\n",
      " [ 0.577  0.736 -0.167]\n",
      " [ 0.595  0.7   -0.127]\n",
      " [ 0.549  0.679 -0.147]\n",
      " [ 0.272 -0.006  0.729]\n",
      " [ 0.312 -0.013  0.87 ]\n",
      " [ 0.296 -0.036  0.787]]\n",
      "[1.66051184 1.56322451 1.45171996]\n"
     ]
    }
   ],
   "source": [
    "# Running a truncated SVD model\n",
    "U, s, V = svd(corpus_vect.toarray())\n",
    "tsvd = TruncatedSVD(n_components=3) # set the number of topics = 3\n",
    "tsvd.fit(corpus_vect)\n",
    "print(np.round(tsvd.transform(corpus_vect), 3))\n",
    "print(tsvd.singular_values_)"
   ]
  },
  {
   "cell_type": "code",
   "execution_count": 15,
   "metadata": {
    "scrolled": true
   },
   "outputs": [
    {
     "name": "stdout",
     "output_type": "stream",
     "text": [
      "   accord  actually  advisers  africa    age  american  among  apple  april  \\\n",
      "0   0.057     0.033     0.070   0.030  0.077     0.042  0.041  0.170  0.035   \n",
      "1  -0.006    -0.025    -0.046   0.043  0.107     0.001  0.017 -0.013  0.006   \n",
      "2   0.024     0.009    -0.026  -0.011 -0.027    -0.016 -0.014  0.606  0.010   \n",
      "\n",
      "   around  ...  university  vaccine  vaccines  wealth  weeks  white   wing  \\\n",
      "0   0.030  ...       0.039    0.392     0.062   0.031  0.071  0.128  0.040   \n",
      "1   0.012  ...       0.055    0.544     0.085  -0.028  0.028 -0.097 -0.035   \n",
      "2   0.016  ...      -0.014   -0.131    -0.020  -0.012 -0.025 -0.049 -0.015   \n",
      "\n",
      "   world   year  years  \n",
      "0  0.053  0.029  0.058  \n",
      "1  0.073 -0.021  0.020  \n",
      "2 -0.017  0.015 -0.022  \n",
      "\n",
      "[3 rows x 182 columns]\n"
     ]
    }
   ],
   "source": [
    "# Printing SVD scores per word\n",
    "df_comp = pd.DataFrame(tsvd.components_, columns=vectorizer.get_feature_names())\n",
    "df_comp = df_comp.apply(lambda x: np.round(x,3))\n",
    "print(df_comp)"
   ]
  },
  {
   "cell_type": "code",
   "execution_count": 16,
   "metadata": {},
   "outputs": [
    {
     "data": {
      "text/plain": [
       "[(0,\n",
       "  '0.392*\"vaccine\" + 0.325*\"biden\" + 0.291*\"infrastructure\" + 0.184*\"tax\" + 0.176*\"house\" + 0.172*\"spend\" + 0.170*\"apple\" + 0.168*\"astrazeneca\" + 0.144*\"data\" + 0.136*\"homepod\"'),\n",
       " (1,\n",
       "  '0.544*\"vaccine\" + -0.275*\"biden\" + -0.261*\"infrastructure\" + 0.232*\"astrazeneca\" + 0.202*\"data\" + 0.186*\"efficacy\" + -0.165*\"tax\" + 0.161*\"dose\" + -0.157*\"house\" + -0.155*\"spend\"'),\n",
       " (2,\n",
       "  '-0.606*\"apple\" + -0.484*\"homepod\" + -0.233*\"device\" + -0.187*\"mini\" + -0.140*\"speakers\" + 0.131*\"vaccine\" + 0.125*\"biden\" + -0.124*\"might\" + -0.121*\"speaker\" + -0.116*\"launch\"')]"
      ]
     },
     "execution_count": 16,
     "metadata": {},
     "output_type": "execute_result"
    }
   ],
   "source": [
    "# using the LsiModel class in gensim\n",
    "lsi = LsiModel(corpus=corpus, id2word=id2word, num_topics=3)\n",
    "lsi.print_topics(3)"
   ]
  },
  {
   "cell_type": "code",
   "execution_count": 17,
   "metadata": {},
   "outputs": [
    {
     "data": {
      "text/html": [
       "<div>\n",
       "<style scoped>\n",
       "    .dataframe tbody tr th:only-of-type {\n",
       "        vertical-align: middle;\n",
       "    }\n",
       "\n",
       "    .dataframe tbody tr th {\n",
       "        vertical-align: top;\n",
       "    }\n",
       "\n",
       "    .dataframe thead th {\n",
       "        text-align: right;\n",
       "    }\n",
       "</style>\n",
       "<table border=\"1\" class=\"dataframe\">\n",
       "  <thead>\n",
       "    <tr style=\"text-align: right;\">\n",
       "      <th></th>\n",
       "      <th>topic 1</th>\n",
       "      <th>topic 2</th>\n",
       "      <th>topic 3</th>\n",
       "    </tr>\n",
       "  </thead>\n",
       "  <tbody>\n",
       "    <tr>\n",
       "      <th>0</th>\n",
       "      <td>0.721</td>\n",
       "      <td>-0.560</td>\n",
       "      <td>0.220</td>\n",
       "    </tr>\n",
       "    <tr>\n",
       "      <th>1</th>\n",
       "      <td>0.706</td>\n",
       "      <td>-0.548</td>\n",
       "      <td>0.200</td>\n",
       "    </tr>\n",
       "    <tr>\n",
       "      <th>2</th>\n",
       "      <td>0.701</td>\n",
       "      <td>-0.579</td>\n",
       "      <td>0.213</td>\n",
       "    </tr>\n",
       "    <tr>\n",
       "      <th>3</th>\n",
       "      <td>0.577</td>\n",
       "      <td>0.736</td>\n",
       "      <td>0.167</td>\n",
       "    </tr>\n",
       "    <tr>\n",
       "      <th>4</th>\n",
       "      <td>0.595</td>\n",
       "      <td>0.700</td>\n",
       "      <td>0.127</td>\n",
       "    </tr>\n",
       "    <tr>\n",
       "      <th>5</th>\n",
       "      <td>0.549</td>\n",
       "      <td>0.679</td>\n",
       "      <td>0.147</td>\n",
       "    </tr>\n",
       "    <tr>\n",
       "      <th>6</th>\n",
       "      <td>0.272</td>\n",
       "      <td>-0.006</td>\n",
       "      <td>-0.729</td>\n",
       "    </tr>\n",
       "    <tr>\n",
       "      <th>7</th>\n",
       "      <td>0.312</td>\n",
       "      <td>-0.013</td>\n",
       "      <td>-0.870</td>\n",
       "    </tr>\n",
       "    <tr>\n",
       "      <th>8</th>\n",
       "      <td>0.296</td>\n",
       "      <td>-0.036</td>\n",
       "      <td>-0.787</td>\n",
       "    </tr>\n",
       "  </tbody>\n",
       "</table>\n",
       "</div>"
      ],
      "text/plain": [
       "   topic 1  topic 2  topic 3\n",
       "0    0.721   -0.560    0.220\n",
       "1    0.706   -0.548    0.200\n",
       "2    0.701   -0.579    0.213\n",
       "3    0.577    0.736    0.167\n",
       "4    0.595    0.700    0.127\n",
       "5    0.549    0.679    0.147\n",
       "6    0.272   -0.006   -0.729\n",
       "7    0.312   -0.013   -0.870\n",
       "8    0.296   -0.036   -0.787"
      ]
     },
     "execution_count": 17,
     "metadata": {},
     "output_type": "execute_result"
    }
   ],
   "source": [
    "# Print the LSI topic scores\n",
    "lsi_docs = lsi[corpus]\n",
    "scores = np.round([[doc[1] for doc in row] for row in lsi_docs], 3)\n",
    "df_lsi = pd.DataFrame(scores, columns=[\"topic 1\", \"topic 2\",\"topic 3\"])\n",
    "df_lsi"
   ]
  }
 ],
 "metadata": {
  "kernelspec": {
   "display_name": "Python 3",
   "language": "python",
   "name": "python3"
  },
  "language_info": {
   "codemirror_mode": {
    "name": "ipython",
    "version": 3
   },
   "file_extension": ".py",
   "mimetype": "text/x-python",
   "name": "python",
   "nbconvert_exporter": "python",
   "pygments_lexer": "ipython3",
   "version": "3.8.5"
  },
  "latex_envs": {
   "LaTeX_envs_menu_present": true,
   "autoclose": false,
   "autocomplete": true,
   "bibliofile": "biblio.bib",
   "cite_by": "apalike",
   "current_citInitial": 1,
   "eqLabelWithNumbers": true,
   "eqNumInitial": 1,
   "hotkeys": {
    "equation": "Ctrl-E",
    "itemize": "Ctrl-I"
   },
   "labels_anchors": false,
   "latex_user_defs": false,
   "report_style_numbering": false,
   "user_envs_cfg": false
  }
 },
 "nbformat": 4,
 "nbformat_minor": 4
}
